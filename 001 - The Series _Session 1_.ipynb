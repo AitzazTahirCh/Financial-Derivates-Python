{
 "cells": [
  {
   "cell_type": "code",
   "execution_count": 1,
   "id": "71ce77f3",
   "metadata": {},
   "outputs": [],
   "source": [
    "# Bismillah"
   ]
  },
  {
   "cell_type": "code",
   "execution_count": 2,
   "id": "d9f7c8b7",
   "metadata": {},
   "outputs": [],
   "source": [
    "import numpy as np\n",
    "import pandas as pd"
   ]
  },
  {
   "cell_type": "markdown",
   "id": "e59be610",
   "metadata": {},
   "source": [
    "# The Series\n",
    "    * A one-dimensional array\n",
    "    * Holds a single data type\n",
    "    * Allows access to elements through the associated index labels - helps in allignment of multiple series."
   ]
  },
  {
   "cell_type": "code",
   "execution_count": 6,
   "id": "2be0a748",
   "metadata": {},
   "outputs": [
    {
     "data": {
      "text/plain": [
       "array([-4.76905040e-01,  8.13788813e-01,  1.19897780e+00, -7.09213696e-02,\n",
       "       -8.96908368e-01,  1.14983280e+00, -9.11145085e-02,  5.53412226e-02,\n",
       "        2.77562925e-01, -1.25961592e+00,  1.38059190e-01, -6.98566172e-01,\n",
       "        3.24999207e-01, -6.68185324e-01, -1.25582520e+00,  2.50126575e-01,\n",
       "        6.33580269e-01, -1.08051945e+00,  1.19448108e+00, -4.30010546e-01,\n",
       "       -1.99834871e+00,  1.54976308e+00,  2.17260602e+00, -3.77284191e-01,\n",
       "        4.39125465e-01,  1.02838798e+00, -4.56908091e-01, -2.04973846e+00,\n",
       "       -4.80359929e-01, -8.67597222e-01,  1.06307620e+00,  1.58083348e+00,\n",
       "       -9.13880143e-01, -2.57001149e+00,  6.06750054e-01, -6.35151275e-02,\n",
       "       -2.98057956e-02, -6.50997841e-01,  1.87004133e+00, -1.14991607e+00,\n",
       "        2.65700621e-02,  3.05677962e-01,  1.44328758e+00,  3.69881437e-01,\n",
       "       -1.38925508e+00,  1.05350928e+00,  1.00340006e+00,  1.05014245e-01,\n",
       "        1.66264021e+00,  1.91516872e-01, -1.12329773e+00,  2.32627740e-01,\n",
       "        1.21528857e+00,  4.91119420e-01,  8.53171484e-01, -1.86655076e+00,\n",
       "       -5.64363506e-01, -1.28817947e+00,  1.16772018e+00,  7.76953289e-01,\n",
       "        1.02055071e+00,  5.77692217e-01,  2.40073344e+00,  1.62795266e+00,\n",
       "       -3.12918757e-01,  3.66004845e-01, -1.29555866e+00,  1.77907664e+00,\n",
       "        2.05399853e-01,  3.69982933e-01, -8.61983904e-01, -4.65588809e-01,\n",
       "       -1.71361510e+00,  8.93757378e-01,  2.15613507e+00,  1.39693196e+00,\n",
       "        1.06901497e+00, -4.41573842e-01, -2.44030108e-01, -1.30640661e-01,\n",
       "        4.57047275e-01, -2.04431175e-01, -1.21153739e+00,  6.65689181e-01,\n",
       "       -9.20159846e-01, -1.80762623e-01, -5.76574769e-01,  3.62204890e-01,\n",
       "        3.68212361e-01,  2.24578454e+00,  6.03144105e-01,  7.97626237e-01,\n",
       "       -1.48147237e+00, -1.18965683e+00, -6.70913823e-04, -2.48874404e-02,\n",
       "        1.36918482e+00, -9.72830474e-01, -3.10418833e-03, -1.21548371e+00])"
      ]
     },
     "execution_count": 6,
     "metadata": {},
     "output_type": "execute_result"
    }
   ],
   "source": [
    "np.random.randn(100) # numpy array"
   ]
  },
  {
   "cell_type": "code",
   "execution_count": 7,
   "id": "b1c40e94",
   "metadata": {},
   "outputs": [],
   "source": [
    "s = pd.Series(np.random.randn(100)) # pandas series"
   ]
  },
  {
   "cell_type": "code",
   "execution_count": 8,
   "id": "0504c2c0",
   "metadata": {},
   "outputs": [
    {
     "data": {
      "text/plain": [
       "0    -0.154036\n",
       "1    -0.767143\n",
       "2    -0.325896\n",
       "3    -0.531383\n",
       "4     1.042505\n",
       "        ...   \n",
       "95    0.592393\n",
       "96   -1.706939\n",
       "97    0.616511\n",
       "98    0.637303\n",
       "99    0.713551\n",
       "Length: 100, dtype: float64"
      ]
     },
     "execution_count": 8,
     "metadata": {},
     "output_type": "execute_result"
    }
   ],
   "source": [
    "s"
   ]
  },
  {
   "cell_type": "code",
   "execution_count": 9,
   "id": "7685a24d",
   "metadata": {},
   "outputs": [
    {
     "data": {
      "text/plain": [
       "-0.3258960788835467"
      ]
     },
     "execution_count": 9,
     "metadata": {},
     "output_type": "execute_result"
    }
   ],
   "source": [
    "s[2] # grab a value located at index 2."
   ]
  },
  {
   "cell_type": "code",
   "execution_count": 10,
   "id": "f2316bb6",
   "metadata": {},
   "outputs": [],
   "source": [
    "# s[2, 4] # error since no single index, 2 4, exists."
   ]
  },
  {
   "cell_type": "code",
   "execution_count": 11,
   "id": "9e0a1d6f",
   "metadata": {},
   "outputs": [
    {
     "data": {
      "text/plain": [
       "2   -0.325896\n",
       "4    1.042505\n",
       "dtype: float64"
      ]
     },
     "execution_count": 11,
     "metadata": {},
     "output_type": "execute_result"
    }
   ],
   "source": [
    "s[[2, 4]] # the inner [] indicates multiple indices given."
   ]
  },
  {
   "cell_type": "code",
   "execution_count": 12,
   "id": "be9352f7",
   "metadata": {},
   "outputs": [
    {
     "data": {
      "text/plain": [
       "5    2.791863\n",
       "6   -2.464199\n",
       "7   -0.847378\n",
       "8   -0.663195\n",
       "9   -0.306703\n",
       "dtype: float64"
      ]
     },
     "execution_count": 12,
     "metadata": {},
     "output_type": "execute_result"
    }
   ],
   "source": [
    "s[5:10] # slicing doesn't need [] since there is no confusion."
   ]
  },
  {
   "cell_type": "code",
   "execution_count": 13,
   "id": "fcf52d20",
   "metadata": {},
   "outputs": [
    {
     "data": {
      "text/plain": [
       "0   -0.154036\n",
       "1   -0.767143\n",
       "2   -0.325896\n",
       "3   -0.531383\n",
       "4    1.042505\n",
       "dtype: float64"
      ]
     },
     "execution_count": 13,
     "metadata": {},
     "output_type": "execute_result"
    }
   ],
   "source": [
    "s.head()"
   ]
  },
  {
   "cell_type": "code",
   "execution_count": 14,
   "id": "ab61ee70",
   "metadata": {},
   "outputs": [
    {
     "data": {
      "text/plain": [
       "95    0.592393\n",
       "96   -1.706939\n",
       "97    0.616511\n",
       "98    0.637303\n",
       "99    0.713551\n",
       "dtype: float64"
      ]
     },
     "execution_count": 14,
     "metadata": {},
     "output_type": "execute_result"
    }
   ],
   "source": [
    "s.tail()"
   ]
  },
  {
   "cell_type": "code",
   "execution_count": 15,
   "id": "5b093b15",
   "metadata": {},
   "outputs": [
    {
     "data": {
      "text/plain": [
       "(100,)"
      ]
     },
     "execution_count": 15,
     "metadata": {},
     "output_type": "execute_result"
    }
   ],
   "source": [
    "s.shape # 100 rows. Attribute and not method."
   ]
  },
  {
   "cell_type": "code",
   "execution_count": 16,
   "id": "112aba10",
   "metadata": {},
   "outputs": [
    {
     "data": {
      "text/plain": [
       "RangeIndex(start=0, stop=100, step=1)"
      ]
     },
     "execution_count": 16,
     "metadata": {},
     "output_type": "execute_result"
    }
   ],
   "source": [
    "s.index # Attribute and not method."
   ]
  },
  {
   "cell_type": "code",
   "execution_count": 17,
   "id": "e43adab9",
   "metadata": {},
   "outputs": [
    {
     "data": {
      "text/plain": [
       "array([-0.15403583, -0.76714317, -0.32589608, -0.53138343,  1.04250479,\n",
       "        2.79186258, -2.46419856, -0.84737832, -0.6631952 , -0.30670315,\n",
       "       -0.58195344, -0.8845913 , -0.19916574,  0.42215718,  1.56112167,\n",
       "       -1.34827186, -0.40098652,  0.59717308,  1.13153786,  1.46163309,\n",
       "        0.57830247,  0.49289682,  0.71403472,  1.10230627, -1.0815552 ,\n",
       "       -1.8106926 ,  0.13455432, -0.48474874,  0.85853148, -1.59907363,\n",
       "        0.03538366,  0.46370358,  2.41470614,  0.73342892, -0.68184458,\n",
       "       -0.14346561, -0.01561494, -0.4191467 ,  1.07973063, -1.76025366,\n",
       "       -1.69443541,  2.95050506,  1.03603837, -1.75524077,  1.08094315,\n",
       "        0.18096836, -0.55855927, -0.75042798,  1.79592536,  1.45260662,\n",
       "       -0.21550719, -0.60881833, -0.69502842,  0.65854713,  0.20614182,\n",
       "        1.27827111, -1.15722857,  0.71231982,  1.01765583, -2.04322717,\n",
       "        0.47758787, -0.23971677, -0.91009083, -1.69165447,  0.56440802,\n",
       "       -0.0407396 , -0.96032837, -1.33756257,  0.22979707, -0.24481907,\n",
       "        1.91008505, -0.7122562 , -0.23059871, -1.02934875,  0.16343721,\n",
       "       -0.8540102 ,  1.31939101,  1.23838369, -1.95902249,  0.69809232,\n",
       "       -1.06039512, -2.28956534, -0.23891289,  0.62372507,  0.74975733,\n",
       "        2.92976919,  0.76616209, -0.32979216, -0.67684345, -2.03225379,\n",
       "        0.4409937 , -0.93489097,  0.72390075, -0.3822389 ,  0.4673503 ,\n",
       "        0.59239338, -1.70693936,  0.61651142,  0.63730318,  0.71355076])"
      ]
     },
     "execution_count": 17,
     "metadata": {},
     "output_type": "execute_result"
    }
   ],
   "source": [
    "s.values"
   ]
  },
  {
   "cell_type": "code",
   "execution_count": 40,
   "id": "32f5bfe1",
   "metadata": {},
   "outputs": [],
   "source": [
    "s = pd.Series([1, 2, 3, 4], index = ['a', 'b', 'c', 'd']) \n",
    "# [] to indicate multiple values as usual. Indices assigned at the time of constructing a series.\n",
    "# Series created through a list."
   ]
  },
  {
   "cell_type": "code",
   "execution_count": 41,
   "id": "3332c430",
   "metadata": {},
   "outputs": [
    {
     "data": {
      "text/plain": [
       "a    1\n",
       "b    2\n",
       "c    3\n",
       "d    4\n",
       "dtype: int64"
      ]
     },
     "execution_count": 41,
     "metadata": {},
     "output_type": "execute_result"
    }
   ],
   "source": [
    "s"
   ]
  },
  {
   "cell_type": "code",
   "execution_count": 20,
   "id": "22a0aef7",
   "metadata": {},
   "outputs": [],
   "source": [
    "s = pd.Series({'a': 1, 'b': 2, 'c': 3, 'd': 4})\n",
    "# Series created through a dictionary. The keys are the indices in the series."
   ]
  },
  {
   "cell_type": "code",
   "execution_count": 21,
   "id": "913700e4",
   "metadata": {},
   "outputs": [
    {
     "data": {
      "text/plain": [
       "a    1\n",
       "b    2\n",
       "c    3\n",
       "d    4\n",
       "dtype: int64"
      ]
     },
     "execution_count": 21,
     "metadata": {},
     "output_type": "execute_result"
    }
   ],
   "source": [
    "s"
   ]
  },
  {
   "cell_type": "code",
   "execution_count": 22,
   "id": "f377bedf",
   "metadata": {},
   "outputs": [],
   "source": [
    "s = pd.Series([1, 2, 3, 4, np.nan])\n",
    "# np.nan so that the pandas know that this value is missing."
   ]
  },
  {
   "cell_type": "code",
   "execution_count": 23,
   "id": "cbdc2adb",
   "metadata": {},
   "outputs": [
    {
     "data": {
      "text/plain": [
       "0    1.0\n",
       "1    2.0\n",
       "2    3.0\n",
       "3    4.0\n",
       "4    NaN\n",
       "dtype: float64"
      ]
     },
     "execution_count": 23,
     "metadata": {},
     "output_type": "execute_result"
    }
   ],
   "source": [
    "s"
   ]
  },
  {
   "cell_type": "code",
   "execution_count": 24,
   "id": "3be6c713",
   "metadata": {},
   "outputs": [
    {
     "data": {
      "text/plain": [
       "5"
      ]
     },
     "execution_count": 24,
     "metadata": {},
     "output_type": "execute_result"
    }
   ],
   "source": [
    "len(s)\n",
    "# includes a missing avalue as well."
   ]
  },
  {
   "cell_type": "code",
   "execution_count": 25,
   "id": "ce7cae5d",
   "metadata": {},
   "outputs": [
    {
     "data": {
      "text/plain": [
       "4"
      ]
     },
     "execution_count": 25,
     "metadata": {},
     "output_type": "execute_result"
    }
   ],
   "source": [
    "s.count()\n",
    "# excludes missing value."
   ]
  },
  {
   "cell_type": "code",
   "execution_count": 26,
   "id": "a84c3cdb",
   "metadata": {},
   "outputs": [],
   "source": [
    "s = pd.Series([10, 3 , 4, 5, 7, 7, 9, 10, np.nan])"
   ]
  },
  {
   "cell_type": "code",
   "execution_count": 27,
   "id": "c5561e93",
   "metadata": {},
   "outputs": [
    {
     "data": {
      "text/plain": [
       "0    10.0\n",
       "1     3.0\n",
       "2     4.0\n",
       "3     5.0\n",
       "4     7.0\n",
       "5     7.0\n",
       "6     9.0\n",
       "7    10.0\n",
       "8     NaN\n",
       "dtype: float64"
      ]
     },
     "execution_count": 27,
     "metadata": {},
     "output_type": "execute_result"
    }
   ],
   "source": [
    "s"
   ]
  },
  {
   "cell_type": "code",
   "execution_count": 28,
   "id": "2e789c88",
   "metadata": {},
   "outputs": [
    {
     "data": {
      "text/plain": [
       "array([10.,  3.,  4.,  5.,  7.,  9., nan])"
      ]
     },
     "execution_count": 28,
     "metadata": {},
     "output_type": "execute_result"
    }
   ],
   "source": [
    "s.unique()\n",
    "# returns only unique values. That is, avoid repeatition of the same value.\n",
    "# returns the missing value as well."
   ]
  },
  {
   "cell_type": "code",
   "execution_count": 29,
   "id": "4a54c2e8",
   "metadata": {},
   "outputs": [
    {
     "data": {
      "text/plain": [
       "10.0    2\n",
       "7.0     2\n",
       "3.0     1\n",
       "4.0     1\n",
       "5.0     1\n",
       "9.0     1\n",
       "dtype: int64"
      ]
     },
     "execution_count": 29,
     "metadata": {},
     "output_type": "execute_result"
    }
   ],
   "source": [
    "s.value_counts()\n",
    "# returns frrequency distribution in descending order. For ascending order, ascending = True.\n",
    "# excludes a missing value."
   ]
  },
  {
   "cell_type": "code",
   "execution_count": 30,
   "id": "832d3115",
   "metadata": {},
   "outputs": [
    {
     "data": {
      "text/plain": [
       "3.0     1\n",
       "4.0     1\n",
       "5.0     1\n",
       "9.0     1\n",
       "10.0    2\n",
       "7.0     2\n",
       "dtype: int64"
      ]
     },
     "execution_count": 30,
     "metadata": {},
     "output_type": "execute_result"
    }
   ],
   "source": [
    "s.value_counts(ascending = True) # go from smaller values to larger values."
   ]
  },
  {
   "cell_type": "code",
   "execution_count": 31,
   "id": "9c0e4a48",
   "metadata": {},
   "outputs": [
    {
     "data": {
      "text/plain": [
       "10.0    0.250\n",
       "7.0     0.250\n",
       "3.0     0.125\n",
       "4.0     0.125\n",
       "5.0     0.125\n",
       "9.0     0.125\n",
       "dtype: float64"
      ]
     },
     "execution_count": 31,
     "metadata": {},
     "output_type": "execute_result"
    }
   ],
   "source": [
    "s.value_counts(normalize = True) # to grab percentages. ascending = False is the default argument.\n"
   ]
  },
  {
   "cell_type": "code",
   "execution_count": 32,
   "id": "294df128",
   "metadata": {},
   "outputs": [],
   "source": [
    "s1 = pd.Series([1, 2, 3, 4], index = ['a', 'b', 'c', 'd'])\n",
    "s2 = pd.Series([4, 3, 2, 1], index = ['d', 'c', 'b', 'a'])"
   ]
  },
  {
   "cell_type": "code",
   "execution_count": 33,
   "id": "2f284b22",
   "metadata": {},
   "outputs": [
    {
     "data": {
      "text/plain": [
       "a    2\n",
       "b    4\n",
       "c    6\n",
       "d    8\n",
       "dtype: int64"
      ]
     },
     "execution_count": 33,
     "metadata": {},
     "output_type": "execute_result"
    }
   ],
   "source": [
    "s1 + s2\n",
    "# The allignment is done automatically on the basis of index labels.\n",
    "# This feature does not exist in numpy array. See below."
   ]
  },
  {
   "cell_type": "code",
   "execution_count": 34,
   "id": "c81bb83f",
   "metadata": {},
   "outputs": [],
   "source": [
    "a1 = np.array([1, 2, 3, 4])\n",
    "a2 = np.array([4, 3, 2, 1])"
   ]
  },
  {
   "cell_type": "code",
   "execution_count": 35,
   "id": "16f4e3b1",
   "metadata": {},
   "outputs": [
    {
     "data": {
      "text/plain": [
       "array([1, 2, 3, 4])"
      ]
     },
     "execution_count": 35,
     "metadata": {},
     "output_type": "execute_result"
    }
   ],
   "source": [
    "a1"
   ]
  },
  {
   "cell_type": "code",
   "execution_count": 36,
   "id": "c81a143f",
   "metadata": {},
   "outputs": [
    {
     "data": {
      "text/plain": [
       "array([4, 3, 2, 1])"
      ]
     },
     "execution_count": 36,
     "metadata": {},
     "output_type": "execute_result"
    }
   ],
   "source": [
    "a2"
   ]
  },
  {
   "cell_type": "code",
   "execution_count": 37,
   "id": "ca743c91",
   "metadata": {},
   "outputs": [
    {
     "data": {
      "text/plain": [
       "array([5, 5, 5, 5])"
      ]
     },
     "execution_count": 37,
     "metadata": {},
     "output_type": "execute_result"
    }
   ],
   "source": [
    "a1 + a2\n",
    "# each corresponding element from both the arrays must be added. No flexibility of adding any two desriable elements of\n",
    "# array located at different indices."
   ]
  },
  {
   "cell_type": "code",
   "execution_count": null,
   "id": "34133d64",
   "metadata": {},
   "outputs": [],
   "source": []
  }
 ],
 "metadata": {
  "kernelspec": {
   "display_name": "Python 3 (ipykernel)",
   "language": "python",
   "name": "python3"
  },
  "language_info": {
   "codemirror_mode": {
    "name": "ipython",
    "version": 3
   },
   "file_extension": ".py",
   "mimetype": "text/x-python",
   "name": "python",
   "nbconvert_exporter": "python",
   "pygments_lexer": "ipython3",
   "version": "3.9.6"
  }
 },
 "nbformat": 4,
 "nbformat_minor": 5
}
