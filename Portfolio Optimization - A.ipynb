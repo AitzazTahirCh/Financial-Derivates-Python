{
 "cells": [
  {
   "cell_type": "code",
   "execution_count": 1,
   "id": "75da80b2-5136-41f8-9cd5-611f9a20b4e1",
   "metadata": {},
   "outputs": [],
   "source": [
    "import pandas as pd\n",
    "import numpy as np\n",
    "import datetime as dt # so that pandas can recognize dates properly\n",
    "import matplotlib.pyplot as plt # for visualization\n",
    "from matplotlib import style\n",
    "import pandas_datareader.data as web # to collect data"
   ]
  },
  {
   "cell_type": "code",
   "execution_count": 2,
   "id": "bc1a9548-f8e7-4098-ab4c-590481883f8e",
   "metadata": {},
   "outputs": [
    {
     "data": {
      "text/html": [
       "<div>\n",
       "<style scoped>\n",
       "    .dataframe tbody tr th:only-of-type {\n",
       "        vertical-align: middle;\n",
       "    }\n",
       "\n",
       "    .dataframe tbody tr th {\n",
       "        vertical-align: top;\n",
       "    }\n",
       "\n",
       "    .dataframe thead th {\n",
       "        text-align: right;\n",
       "    }\n",
       "</style>\n",
       "<table border=\"1\" class=\"dataframe\">\n",
       "  <thead>\n",
       "    <tr style=\"text-align: right;\">\n",
       "      <th></th>\n",
       "    </tr>\n",
       "  </thead>\n",
       "  <tbody>\n",
       "  </tbody>\n",
       "</table>\n",
       "</div>"
      ],
      "text/plain": [
       "Empty DataFrame\n",
       "Columns: []\n",
       "Index: []"
      ]
     },
     "execution_count": 2,
     "metadata": {},
     "output_type": "execute_result"
    }
   ],
   "source": [
    "style.use('ggplot')\n",
    "tickers = ['TSLA', 'BAC']\n",
    "start = dt.datetime(2014, 1, 1)\n",
    "end = dt.datetime(2020, 11, 20)\n",
    "returns = pd.DataFrame() # create an empty data frame, returns.\n",
    "returns"
   ]
  },
  {
   "cell_type": "markdown",
   "id": "dd338f0e-805c-4280-b56a-6a7a948c4a8b",
   "metadata": {},
   "source": [
    "# Portfolio Optimization:\n",
    "Optimal portfolio has the highest sharpe ratio\n",
    "- [**Data**](#Data): Extract the data online and organize it in the data frame.\n"
   ]
  },
  {
   "cell_type": "markdown",
   "id": "0c169e7a-9569-4ccc-8b2e-0767ecf004d9",
   "metadata": {},
   "source": [
    "## Data"
   ]
  },
  {
   "cell_type": "code",
   "execution_count": 3,
   "id": "27af816e-8388-4dda-967a-ef6c3bd064bc",
   "metadata": {},
   "outputs": [
    {
     "data": {
      "text/html": [
       "<div>\n",
       "<style scoped>\n",
       "    .dataframe tbody tr th:only-of-type {\n",
       "        vertical-align: middle;\n",
       "    }\n",
       "\n",
       "    .dataframe tbody tr th {\n",
       "        vertical-align: top;\n",
       "    }\n",
       "\n",
       "    .dataframe thead th {\n",
       "        text-align: right;\n",
       "    }\n",
       "</style>\n",
       "<table border=\"1\" class=\"dataframe\">\n",
       "  <thead>\n",
       "    <tr style=\"text-align: right;\">\n",
       "      <th></th>\n",
       "      <th>High</th>\n",
       "      <th>Low</th>\n",
       "      <th>Open</th>\n",
       "      <th>Close</th>\n",
       "      <th>Volume</th>\n",
       "      <th>Adj Close</th>\n",
       "    </tr>\n",
       "    <tr>\n",
       "      <th>Date</th>\n",
       "      <th></th>\n",
       "      <th></th>\n",
       "      <th></th>\n",
       "      <th></th>\n",
       "      <th></th>\n",
       "      <th></th>\n",
       "    </tr>\n",
       "  </thead>\n",
       "  <tbody>\n",
       "    <tr>\n",
       "      <th>2013-12-31</th>\n",
       "      <td>15.620000</td>\n",
       "      <td>15.510000</td>\n",
       "      <td>15.600000</td>\n",
       "      <td>15.570000</td>\n",
       "      <td>57188900.0</td>\n",
       "      <td>13.512726</td>\n",
       "    </tr>\n",
       "    <tr>\n",
       "      <th>2014-01-02</th>\n",
       "      <td>16.160000</td>\n",
       "      <td>15.680000</td>\n",
       "      <td>15.690000</td>\n",
       "      <td>16.100000</td>\n",
       "      <td>148709900.0</td>\n",
       "      <td>13.972696</td>\n",
       "    </tr>\n",
       "    <tr>\n",
       "      <th>2014-01-03</th>\n",
       "      <td>16.500000</td>\n",
       "      <td>16.230000</td>\n",
       "      <td>16.270000</td>\n",
       "      <td>16.410000</td>\n",
       "      <td>129921800.0</td>\n",
       "      <td>14.241735</td>\n",
       "    </tr>\n",
       "    <tr>\n",
       "      <th>2014-01-06</th>\n",
       "      <td>16.730000</td>\n",
       "      <td>16.559999</td>\n",
       "      <td>16.629999</td>\n",
       "      <td>16.660000</td>\n",
       "      <td>114431300.0</td>\n",
       "      <td>14.458704</td>\n",
       "    </tr>\n",
       "    <tr>\n",
       "      <th>2014-01-07</th>\n",
       "      <td>16.790001</td>\n",
       "      <td>16.450001</td>\n",
       "      <td>16.770000</td>\n",
       "      <td>16.500000</td>\n",
       "      <td>110605100.0</td>\n",
       "      <td>14.319845</td>\n",
       "    </tr>\n",
       "    <tr>\n",
       "      <th>...</th>\n",
       "      <td>...</td>\n",
       "      <td>...</td>\n",
       "      <td>...</td>\n",
       "      <td>...</td>\n",
       "      <td>...</td>\n",
       "      <td>...</td>\n",
       "    </tr>\n",
       "    <tr>\n",
       "      <th>2020-11-16</th>\n",
       "      <td>28.000000</td>\n",
       "      <td>27.180000</td>\n",
       "      <td>27.860001</td>\n",
       "      <td>27.580000</td>\n",
       "      <td>57396700.0</td>\n",
       "      <td>26.760630</td>\n",
       "    </tr>\n",
       "    <tr>\n",
       "      <th>2020-11-17</th>\n",
       "      <td>27.600000</td>\n",
       "      <td>27.010000</td>\n",
       "      <td>27.250000</td>\n",
       "      <td>27.549999</td>\n",
       "      <td>46402300.0</td>\n",
       "      <td>26.731520</td>\n",
       "    </tr>\n",
       "    <tr>\n",
       "      <th>2020-11-18</th>\n",
       "      <td>27.930000</td>\n",
       "      <td>26.959999</td>\n",
       "      <td>27.629999</td>\n",
       "      <td>26.980000</td>\n",
       "      <td>54416700.0</td>\n",
       "      <td>26.178453</td>\n",
       "    </tr>\n",
       "    <tr>\n",
       "      <th>2020-11-19</th>\n",
       "      <td>27.010000</td>\n",
       "      <td>26.650000</td>\n",
       "      <td>26.930000</td>\n",
       "      <td>26.980000</td>\n",
       "      <td>46423000.0</td>\n",
       "      <td>26.178453</td>\n",
       "    </tr>\n",
       "    <tr>\n",
       "      <th>2020-11-20</th>\n",
       "      <td>26.950001</td>\n",
       "      <td>26.629999</td>\n",
       "      <td>26.740000</td>\n",
       "      <td>26.809999</td>\n",
       "      <td>40538000.0</td>\n",
       "      <td>26.013502</td>\n",
       "    </tr>\n",
       "  </tbody>\n",
       "</table>\n",
       "<p>1737 rows × 6 columns</p>\n",
       "</div>"
      ],
      "text/plain": [
       "                 High        Low       Open      Close       Volume  Adj Close\n",
       "Date                                                                          \n",
       "2013-12-31  15.620000  15.510000  15.600000  15.570000   57188900.0  13.512726\n",
       "2014-01-02  16.160000  15.680000  15.690000  16.100000  148709900.0  13.972696\n",
       "2014-01-03  16.500000  16.230000  16.270000  16.410000  129921800.0  14.241735\n",
       "2014-01-06  16.730000  16.559999  16.629999  16.660000  114431300.0  14.458704\n",
       "2014-01-07  16.790001  16.450001  16.770000  16.500000  110605100.0  14.319845\n",
       "...               ...        ...        ...        ...          ...        ...\n",
       "2020-11-16  28.000000  27.180000  27.860001  27.580000   57396700.0  26.760630\n",
       "2020-11-17  27.600000  27.010000  27.250000  27.549999   46402300.0  26.731520\n",
       "2020-11-18  27.930000  26.959999  27.629999  26.980000   54416700.0  26.178453\n",
       "2020-11-19  27.010000  26.650000  26.930000  26.980000   46423000.0  26.178453\n",
       "2020-11-20  26.950001  26.629999  26.740000  26.809999   40538000.0  26.013502\n",
       "\n",
       "[1737 rows x 6 columns]"
      ]
     },
     "execution_count": 3,
     "metadata": {},
     "output_type": "execute_result"
    }
   ],
   "source": [
    "for ticker in tickers:\n",
    "    data = web.DataReader(ticker, 'yahoo', start, end)\n",
    "data\n",
    "# Loop will run for the first time for TSLA, extracts the data from yahoo finance and store it in data \n",
    "#frame, data. The loop will then run for BAC, extracts the data from yahoo finance and replace the data\n",
    "# in data frame, data. This is not the dataframe that we want at the end since it will contain data of\n",
    "# only BAC, the last ticker in the tickers list."
   ]
  },
  {
   "cell_type": "code",
   "execution_count": 4,
   "id": "9b634402-800d-4670-8129-c585378a60d8",
   "metadata": {},
   "outputs": [
    {
     "data": {
      "text/html": [
       "<div>\n",
       "<style scoped>\n",
       "    .dataframe tbody tr th:only-of-type {\n",
       "        vertical-align: middle;\n",
       "    }\n",
       "\n",
       "    .dataframe tbody tr th {\n",
       "        vertical-align: top;\n",
       "    }\n",
       "\n",
       "    .dataframe thead th {\n",
       "        text-align: right;\n",
       "    }\n",
       "</style>\n",
       "<table border=\"1\" class=\"dataframe\">\n",
       "  <thead>\n",
       "    <tr style=\"text-align: right;\">\n",
       "      <th></th>\n",
       "      <th>High</th>\n",
       "      <th>Low</th>\n",
       "      <th>Open</th>\n",
       "      <th>Close</th>\n",
       "      <th>Volume</th>\n",
       "      <th>Adj Close</th>\n",
       "      <th>BAC</th>\n",
       "    </tr>\n",
       "    <tr>\n",
       "      <th>Date</th>\n",
       "      <th></th>\n",
       "      <th></th>\n",
       "      <th></th>\n",
       "      <th></th>\n",
       "      <th></th>\n",
       "      <th></th>\n",
       "      <th></th>\n",
       "    </tr>\n",
       "  </thead>\n",
       "  <tbody>\n",
       "    <tr>\n",
       "      <th>2013-12-31</th>\n",
       "      <td>15.620000</td>\n",
       "      <td>15.510000</td>\n",
       "      <td>15.600000</td>\n",
       "      <td>15.570000</td>\n",
       "      <td>57188900.0</td>\n",
       "      <td>13.512726</td>\n",
       "      <td>NaN</td>\n",
       "    </tr>\n",
       "    <tr>\n",
       "      <th>2014-01-02</th>\n",
       "      <td>16.160000</td>\n",
       "      <td>15.680000</td>\n",
       "      <td>15.690000</td>\n",
       "      <td>16.100000</td>\n",
       "      <td>148709900.0</td>\n",
       "      <td>13.972699</td>\n",
       "      <td>0.034040</td>\n",
       "    </tr>\n",
       "    <tr>\n",
       "      <th>2014-01-03</th>\n",
       "      <td>16.500000</td>\n",
       "      <td>16.230000</td>\n",
       "      <td>16.270000</td>\n",
       "      <td>16.410000</td>\n",
       "      <td>129921800.0</td>\n",
       "      <td>14.241737</td>\n",
       "      <td>0.019255</td>\n",
       "    </tr>\n",
       "    <tr>\n",
       "      <th>2014-01-06</th>\n",
       "      <td>16.730000</td>\n",
       "      <td>16.559999</td>\n",
       "      <td>16.629999</td>\n",
       "      <td>16.660000</td>\n",
       "      <td>114431300.0</td>\n",
       "      <td>14.458703</td>\n",
       "      <td>0.015234</td>\n",
       "    </tr>\n",
       "    <tr>\n",
       "      <th>2014-01-07</th>\n",
       "      <td>16.790001</td>\n",
       "      <td>16.450001</td>\n",
       "      <td>16.770000</td>\n",
       "      <td>16.500000</td>\n",
       "      <td>110605100.0</td>\n",
       "      <td>14.319844</td>\n",
       "      <td>-0.009604</td>\n",
       "    </tr>\n",
       "    <tr>\n",
       "      <th>...</th>\n",
       "      <td>...</td>\n",
       "      <td>...</td>\n",
       "      <td>...</td>\n",
       "      <td>...</td>\n",
       "      <td>...</td>\n",
       "      <td>...</td>\n",
       "      <td>...</td>\n",
       "    </tr>\n",
       "    <tr>\n",
       "      <th>2020-11-16</th>\n",
       "      <td>28.000000</td>\n",
       "      <td>27.180000</td>\n",
       "      <td>27.860001</td>\n",
       "      <td>27.580000</td>\n",
       "      <td>57396700.0</td>\n",
       "      <td>26.760632</td>\n",
       "      <td>0.021482</td>\n",
       "    </tr>\n",
       "    <tr>\n",
       "      <th>2020-11-17</th>\n",
       "      <td>27.600000</td>\n",
       "      <td>27.010000</td>\n",
       "      <td>27.250000</td>\n",
       "      <td>27.549999</td>\n",
       "      <td>46402300.0</td>\n",
       "      <td>26.731522</td>\n",
       "      <td>-0.001088</td>\n",
       "    </tr>\n",
       "    <tr>\n",
       "      <th>2020-11-18</th>\n",
       "      <td>27.930000</td>\n",
       "      <td>26.959999</td>\n",
       "      <td>27.629999</td>\n",
       "      <td>26.980000</td>\n",
       "      <td>54416700.0</td>\n",
       "      <td>26.178453</td>\n",
       "      <td>-0.020690</td>\n",
       "    </tr>\n",
       "    <tr>\n",
       "      <th>2020-11-19</th>\n",
       "      <td>27.010000</td>\n",
       "      <td>26.650000</td>\n",
       "      <td>26.930000</td>\n",
       "      <td>26.980000</td>\n",
       "      <td>46423000.0</td>\n",
       "      <td>26.178453</td>\n",
       "      <td>0.000000</td>\n",
       "    </tr>\n",
       "    <tr>\n",
       "      <th>2020-11-20</th>\n",
       "      <td>26.950001</td>\n",
       "      <td>26.629999</td>\n",
       "      <td>26.740000</td>\n",
       "      <td>26.809999</td>\n",
       "      <td>40538000.0</td>\n",
       "      <td>26.013504</td>\n",
       "      <td>-0.006301</td>\n",
       "    </tr>\n",
       "  </tbody>\n",
       "</table>\n",
       "<p>1737 rows × 7 columns</p>\n",
       "</div>"
      ],
      "text/plain": [
       "                 High        Low       Open      Close       Volume  \\\n",
       "Date                                                                  \n",
       "2013-12-31  15.620000  15.510000  15.600000  15.570000   57188900.0   \n",
       "2014-01-02  16.160000  15.680000  15.690000  16.100000  148709900.0   \n",
       "2014-01-03  16.500000  16.230000  16.270000  16.410000  129921800.0   \n",
       "2014-01-06  16.730000  16.559999  16.629999  16.660000  114431300.0   \n",
       "2014-01-07  16.790001  16.450001  16.770000  16.500000  110605100.0   \n",
       "...               ...        ...        ...        ...          ...   \n",
       "2020-11-16  28.000000  27.180000  27.860001  27.580000   57396700.0   \n",
       "2020-11-17  27.600000  27.010000  27.250000  27.549999   46402300.0   \n",
       "2020-11-18  27.930000  26.959999  27.629999  26.980000   54416700.0   \n",
       "2020-11-19  27.010000  26.650000  26.930000  26.980000   46423000.0   \n",
       "2020-11-20  26.950001  26.629999  26.740000  26.809999   40538000.0   \n",
       "\n",
       "            Adj Close       BAC  \n",
       "Date                             \n",
       "2013-12-31  13.512726       NaN  \n",
       "2014-01-02  13.972699  0.034040  \n",
       "2014-01-03  14.241737  0.019255  \n",
       "2014-01-06  14.458703  0.015234  \n",
       "2014-01-07  14.319844 -0.009604  \n",
       "...               ...       ...  \n",
       "2020-11-16  26.760632  0.021482  \n",
       "2020-11-17  26.731522 -0.001088  \n",
       "2020-11-18  26.178453 -0.020690  \n",
       "2020-11-19  26.178453  0.000000  \n",
       "2020-11-20  26.013504 -0.006301  \n",
       "\n",
       "[1737 rows x 7 columns]"
      ]
     },
     "execution_count": 4,
     "metadata": {},
     "output_type": "execute_result"
    }
   ],
   "source": [
    "for ticker in tickers:\n",
    "    data = web.DataReader(ticker, 'yahoo', start, end)\n",
    "    data[ticker] = data['Adj Close'].pct_change() # add a column to data frame, data, and store returns in it.\n",
    "\n",
    "# pd.set_option('display.max_rows', None)\n",
    "data\n",
    "# still same number of rows as above, so values of one firm (TSLA) replace by another firm (BAC)."
   ]
  },
  {
   "cell_type": "code",
   "execution_count": 5,
   "id": "b4564be9-f4c4-4aed-aeb2-5e3571343e01",
   "metadata": {},
   "outputs": [
    {
     "data": {
      "text/plain": [
       "0.034039837705582165"
      ]
     },
     "execution_count": 5,
     "metadata": {},
     "output_type": "execute_result"
    }
   ],
   "source": [
    "13.972697 / 13.512726 - 1\n",
    "\n",
    "# just for confirmation of the return above."
   ]
  },
  {
   "cell_type": "code",
   "execution_count": 6,
   "id": "41adca5f-e045-4bce-b1f2-4a7a47173abb",
   "metadata": {},
   "outputs": [
    {
     "data": {
      "text/html": [
       "<div>\n",
       "<style scoped>\n",
       "    .dataframe tbody tr th:only-of-type {\n",
       "        vertical-align: middle;\n",
       "    }\n",
       "\n",
       "    .dataframe tbody tr th {\n",
       "        vertical-align: top;\n",
       "    }\n",
       "\n",
       "    .dataframe thead th {\n",
       "        text-align: right;\n",
       "    }\n",
       "</style>\n",
       "<table border=\"1\" class=\"dataframe\">\n",
       "  <thead>\n",
       "    <tr style=\"text-align: right;\">\n",
       "      <th></th>\n",
       "      <th>High</th>\n",
       "      <th>Low</th>\n",
       "      <th>Open</th>\n",
       "      <th>Close</th>\n",
       "      <th>Volume</th>\n",
       "      <th>Adj Close</th>\n",
       "      <th>BAC</th>\n",
       "    </tr>\n",
       "    <tr>\n",
       "      <th>Date</th>\n",
       "      <th></th>\n",
       "      <th></th>\n",
       "      <th></th>\n",
       "      <th></th>\n",
       "      <th></th>\n",
       "      <th></th>\n",
       "      <th></th>\n",
       "    </tr>\n",
       "  </thead>\n",
       "  <tbody>\n",
       "    <tr>\n",
       "      <th>2013-12-31</th>\n",
       "      <td>15.620000</td>\n",
       "      <td>15.510000</td>\n",
       "      <td>15.600000</td>\n",
       "      <td>15.570000</td>\n",
       "      <td>57188900.0</td>\n",
       "      <td>13.512727</td>\n",
       "      <td>NaN</td>\n",
       "    </tr>\n",
       "    <tr>\n",
       "      <th>2014-01-02</th>\n",
       "      <td>16.160000</td>\n",
       "      <td>15.680000</td>\n",
       "      <td>15.690000</td>\n",
       "      <td>16.100000</td>\n",
       "      <td>148709900.0</td>\n",
       "      <td>13.972699</td>\n",
       "      <td>0.034040</td>\n",
       "    </tr>\n",
       "    <tr>\n",
       "      <th>2014-01-03</th>\n",
       "      <td>16.500000</td>\n",
       "      <td>16.230000</td>\n",
       "      <td>16.270000</td>\n",
       "      <td>16.410000</td>\n",
       "      <td>129921800.0</td>\n",
       "      <td>14.241740</td>\n",
       "      <td>0.019255</td>\n",
       "    </tr>\n",
       "    <tr>\n",
       "      <th>2014-01-06</th>\n",
       "      <td>16.730000</td>\n",
       "      <td>16.559999</td>\n",
       "      <td>16.629999</td>\n",
       "      <td>16.660000</td>\n",
       "      <td>114431300.0</td>\n",
       "      <td>14.458701</td>\n",
       "      <td>0.015234</td>\n",
       "    </tr>\n",
       "    <tr>\n",
       "      <th>2014-01-07</th>\n",
       "      <td>16.790001</td>\n",
       "      <td>16.450001</td>\n",
       "      <td>16.770000</td>\n",
       "      <td>16.500000</td>\n",
       "      <td>110605100.0</td>\n",
       "      <td>14.319846</td>\n",
       "      <td>-0.009604</td>\n",
       "    </tr>\n",
       "    <tr>\n",
       "      <th>...</th>\n",
       "      <td>...</td>\n",
       "      <td>...</td>\n",
       "      <td>...</td>\n",
       "      <td>...</td>\n",
       "      <td>...</td>\n",
       "      <td>...</td>\n",
       "      <td>...</td>\n",
       "    </tr>\n",
       "    <tr>\n",
       "      <th>2020-11-16</th>\n",
       "      <td>28.000000</td>\n",
       "      <td>27.180000</td>\n",
       "      <td>27.860001</td>\n",
       "      <td>27.580000</td>\n",
       "      <td>57396700.0</td>\n",
       "      <td>26.760630</td>\n",
       "      <td>0.021481</td>\n",
       "    </tr>\n",
       "    <tr>\n",
       "      <th>2020-11-17</th>\n",
       "      <td>27.600000</td>\n",
       "      <td>27.010000</td>\n",
       "      <td>27.250000</td>\n",
       "      <td>27.549999</td>\n",
       "      <td>46402300.0</td>\n",
       "      <td>26.731520</td>\n",
       "      <td>-0.001088</td>\n",
       "    </tr>\n",
       "    <tr>\n",
       "      <th>2020-11-18</th>\n",
       "      <td>27.930000</td>\n",
       "      <td>26.959999</td>\n",
       "      <td>27.629999</td>\n",
       "      <td>26.980000</td>\n",
       "      <td>54416700.0</td>\n",
       "      <td>26.178453</td>\n",
       "      <td>-0.020690</td>\n",
       "    </tr>\n",
       "    <tr>\n",
       "      <th>2020-11-19</th>\n",
       "      <td>27.010000</td>\n",
       "      <td>26.650000</td>\n",
       "      <td>26.930000</td>\n",
       "      <td>26.980000</td>\n",
       "      <td>46423000.0</td>\n",
       "      <td>26.178453</td>\n",
       "      <td>0.000000</td>\n",
       "    </tr>\n",
       "    <tr>\n",
       "      <th>2020-11-20</th>\n",
       "      <td>26.950001</td>\n",
       "      <td>26.629999</td>\n",
       "      <td>26.740000</td>\n",
       "      <td>26.809999</td>\n",
       "      <td>40538000.0</td>\n",
       "      <td>26.013506</td>\n",
       "      <td>-0.006301</td>\n",
       "    </tr>\n",
       "  </tbody>\n",
       "</table>\n",
       "<p>1737 rows × 7 columns</p>\n",
       "</div>"
      ],
      "text/plain": [
       "                 High        Low       Open      Close       Volume  \\\n",
       "Date                                                                  \n",
       "2013-12-31  15.620000  15.510000  15.600000  15.570000   57188900.0   \n",
       "2014-01-02  16.160000  15.680000  15.690000  16.100000  148709900.0   \n",
       "2014-01-03  16.500000  16.230000  16.270000  16.410000  129921800.0   \n",
       "2014-01-06  16.730000  16.559999  16.629999  16.660000  114431300.0   \n",
       "2014-01-07  16.790001  16.450001  16.770000  16.500000  110605100.0   \n",
       "...               ...        ...        ...        ...          ...   \n",
       "2020-11-16  28.000000  27.180000  27.860001  27.580000   57396700.0   \n",
       "2020-11-17  27.600000  27.010000  27.250000  27.549999   46402300.0   \n",
       "2020-11-18  27.930000  26.959999  27.629999  26.980000   54416700.0   \n",
       "2020-11-19  27.010000  26.650000  26.930000  26.980000   46423000.0   \n",
       "2020-11-20  26.950001  26.629999  26.740000  26.809999   40538000.0   \n",
       "\n",
       "            Adj Close       BAC  \n",
       "Date                             \n",
       "2013-12-31  13.512727       NaN  \n",
       "2014-01-02  13.972699  0.034040  \n",
       "2014-01-03  14.241740  0.019255  \n",
       "2014-01-06  14.458701  0.015234  \n",
       "2014-01-07  14.319846 -0.009604  \n",
       "...               ...       ...  \n",
       "2020-11-16  26.760630  0.021481  \n",
       "2020-11-17  26.731520 -0.001088  \n",
       "2020-11-18  26.178453 -0.020690  \n",
       "2020-11-19  26.178453  0.000000  \n",
       "2020-11-20  26.013506 -0.006301  \n",
       "\n",
       "[1737 rows x 7 columns]"
      ]
     },
     "execution_count": 6,
     "metadata": {},
     "output_type": "execute_result"
    }
   ],
   "source": [
    "for ticker in tickers:\n",
    "    data = web.DataReader(ticker, 'yahoo', start, end) \n",
    "    data[ticker] = data['Adj Close'].pct_change()\n",
    "    \n",
    "    if returns.empty:\n",
    "        returns = data[[ticker]]\n",
    "    else:\n",
    "        returns = returns.join(data[[ticker]], how = 'outer')\n",
    "data\n",
    "# loop first running for TSLA, extracting its data from yahoo finance from the start to the end dates \n",
    "# and then storing it in a data frame, data. Next, data[ticker] = data[TSLA] column is created which\n",
    "# contains percentage changes in the Adj Close of TSLA. Next, if-else is evaluated. In the if statement,\n",
    "# returns.empty outputs True since the data frame, returns, is yet empty, which sets the data frame,\n",
    "# returns, equal to data[[ticker]] or more precisely to data[[TSLA]]. This finishes the first loop.\n",
    "\n",
    "# Then the loop runs for BAC, extracting its data from yahoo finance from the start to the end dates\n",
    "# and then storing it in a data frame, data. Next, data[ticker] = data[BAC] column is created which\n",
    "# is set equal to percentage changes in the Adj Close of BAC. Next, if-else is evaluated. In the if\n",
    "# statement,returns.empty turns out to be False this time, therefore, else is executed, where the data \n",
    "# frame, returns which already contains the data for TSLA, now takes the data from data[[ticker]] which\n",
    "# is this time equal to data[[BAC]]. Thus, the data frame, returns, now contains two columns. The first one\n",
    "# contains percent changes (net returns) of TSLA and the second one contains the percent changes (net returns) of\n",
    "# BAC.\n",
    "\n",
    "# The data frame, data, will still contain 1,737 rows since it contains data only for BAC.\n",
    "\n",
    "# The data frame, returns, will contain 1,737 rows but then two columns, one for TSLA and the other for\n",
    "# BAC."
   ]
  },
  {
   "cell_type": "code",
   "execution_count": 7,
   "id": "60e9cc03-5a2e-45b7-ac0b-6a309cdc682b",
   "metadata": {},
   "outputs": [
    {
     "data": {
      "text/html": [
       "<div>\n",
       "<style scoped>\n",
       "    .dataframe tbody tr th:only-of-type {\n",
       "        vertical-align: middle;\n",
       "    }\n",
       "\n",
       "    .dataframe tbody tr th {\n",
       "        vertical-align: top;\n",
       "    }\n",
       "\n",
       "    .dataframe thead th {\n",
       "        text-align: right;\n",
       "    }\n",
       "</style>\n",
       "<table border=\"1\" class=\"dataframe\">\n",
       "  <thead>\n",
       "    <tr style=\"text-align: right;\">\n",
       "      <th></th>\n",
       "      <th>TSLA</th>\n",
       "      <th>BAC</th>\n",
       "    </tr>\n",
       "    <tr>\n",
       "      <th>Date</th>\n",
       "      <th></th>\n",
       "      <th></th>\n",
       "    </tr>\n",
       "  </thead>\n",
       "  <tbody>\n",
       "    <tr>\n",
       "      <th>2013-12-31</th>\n",
       "      <td>NaN</td>\n",
       "      <td>NaN</td>\n",
       "    </tr>\n",
       "    <tr>\n",
       "      <th>2014-01-02</th>\n",
       "      <td>-0.002194</td>\n",
       "      <td>0.034040</td>\n",
       "    </tr>\n",
       "    <tr>\n",
       "      <th>2014-01-03</th>\n",
       "      <td>-0.003598</td>\n",
       "      <td>0.019255</td>\n",
       "    </tr>\n",
       "    <tr>\n",
       "      <th>2014-01-06</th>\n",
       "      <td>-0.017117</td>\n",
       "      <td>0.015234</td>\n",
       "    </tr>\n",
       "    <tr>\n",
       "      <th>2014-01-07</th>\n",
       "      <td>0.016054</td>\n",
       "      <td>-0.009604</td>\n",
       "    </tr>\n",
       "    <tr>\n",
       "      <th>...</th>\n",
       "      <td>...</td>\n",
       "      <td>...</td>\n",
       "    </tr>\n",
       "    <tr>\n",
       "      <th>2020-11-16</th>\n",
       "      <td>-0.001004</td>\n",
       "      <td>0.021481</td>\n",
       "    </tr>\n",
       "    <tr>\n",
       "      <th>2020-11-17</th>\n",
       "      <td>0.082139</td>\n",
       "      <td>-0.001088</td>\n",
       "    </tr>\n",
       "    <tr>\n",
       "      <th>2020-11-18</th>\n",
       "      <td>0.101968</td>\n",
       "      <td>-0.020690</td>\n",
       "    </tr>\n",
       "    <tr>\n",
       "      <th>2020-11-19</th>\n",
       "      <td>0.025953</td>\n",
       "      <td>0.000000</td>\n",
       "    </tr>\n",
       "    <tr>\n",
       "      <th>2020-11-20</th>\n",
       "      <td>-0.019348</td>\n",
       "      <td>-0.006301</td>\n",
       "    </tr>\n",
       "  </tbody>\n",
       "</table>\n",
       "<p>1737 rows × 2 columns</p>\n",
       "</div>"
      ],
      "text/plain": [
       "                TSLA       BAC\n",
       "Date                          \n",
       "2013-12-31       NaN       NaN\n",
       "2014-01-02 -0.002194  0.034040\n",
       "2014-01-03 -0.003598  0.019255\n",
       "2014-01-06 -0.017117  0.015234\n",
       "2014-01-07  0.016054 -0.009604\n",
       "...              ...       ...\n",
       "2020-11-16 -0.001004  0.021481\n",
       "2020-11-17  0.082139 -0.001088\n",
       "2020-11-18  0.101968 -0.020690\n",
       "2020-11-19  0.025953  0.000000\n",
       "2020-11-20 -0.019348 -0.006301\n",
       "\n",
       "[1737 rows x 2 columns]"
      ]
     },
     "execution_count": 7,
     "metadata": {},
     "output_type": "execute_result"
    }
   ],
   "source": [
    "returns"
   ]
  },
  {
   "cell_type": "code",
   "execution_count": 8,
   "id": "4d090e00-c3d5-4eb4-826b-248711779450",
   "metadata": {},
   "outputs": [
    {
     "data": {
      "text/plain": [
       "pandas.core.frame.DataFrame"
      ]
     },
     "execution_count": 8,
     "metadata": {},
     "output_type": "execute_result"
    }
   ],
   "source": [
    "type(returns)"
   ]
  },
  {
   "cell_type": "markdown",
   "id": "84e40b1f-6ee3-454d-a465-abb8da9af964",
   "metadata": {},
   "source": [
    "## Determine the portfolio weights:"
   ]
  },
  {
   "cell_type": "code",
   "execution_count": 9,
   "id": "1d9fb0a6-d980-43dc-9785-fa9ae9d53496",
   "metadata": {},
   "outputs": [
    {
     "name": "stdout",
     "output_type": "stream",
     "text": [
      "[0.59141331 0.38306465]\n",
      "[0.37477199 0.09293465]\n",
      "[0.85311195 0.61700743]\n",
      "[0.48647942 0.31388212]\n",
      "[0.30555805 0.99168865]\n"
     ]
    }
   ],
   "source": [
    "number_of_portfolios = 5\n",
    "for portfolio in range(number_of_portfolios):\n",
    "    weights = np.random.random_sample(len(tickers))\n",
    "    print(weights)\n",
    "    \n",
    "# Loop will run the first time for 0 and put 0 in portfolio variable. Then, np.random.random_sample(2) will run\n",
    "# and produce two random numbers and store them in the variable, weights. The loop then runs for 1 in portfolio\n",
    "# variable, np.random.random_sample(2) generates two random numbers and store them in the variable, weights again.\n",
    "# The loop runs 5 times in total from 0 to 4. Thus, the variable, weights, contain 5 sets of 2 random numbers and\n",
    "# each set can be viewed as a seperate portfolio. Hence, the total number of portfolios is equal to 5.\n",
    "\n",
    "# But now the problem is each portfolio weight is either less than or greater than 1 or 100 percent. We overcome \n",
    "# this problem in the following as:"
   ]
  },
  {
   "cell_type": "code",
   "execution_count": 10,
   "id": "2fd393b1-a627-45d0-b81f-2cca7d2eda60",
   "metadata": {},
   "outputs": [
    {
     "data": {
      "text/plain": [
       "array([0.30555805, 0.99168865])"
      ]
     },
     "execution_count": 10,
     "metadata": {},
     "output_type": "execute_result"
    }
   ],
   "source": [
    "weights"
   ]
  },
  {
   "cell_type": "code",
   "execution_count": 11,
   "id": "ba4c89ad-4f4c-4d99-9fbd-ae264240c829",
   "metadata": {},
   "outputs": [
    {
     "data": {
      "text/plain": [
       "1.2972466992577179"
      ]
     },
     "execution_count": 11,
     "metadata": {},
     "output_type": "execute_result"
    }
   ],
   "source": [
    "weights[0] + weights[1] # these will change every time we run the cells above."
   ]
  },
  {
   "cell_type": "code",
   "execution_count": 12,
   "id": "6bc66eb8-6927-485b-8bbb-350eae4fc147",
   "metadata": {},
   "outputs": [
    {
     "data": {
      "text/plain": [
       "1.2972466992577179"
      ]
     },
     "execution_count": 12,
     "metadata": {},
     "output_type": "execute_result"
    }
   ],
   "source": [
    "np.sum(weights)"
   ]
  },
  {
   "cell_type": "code",
   "execution_count": 13,
   "id": "5c5cb693-f2ff-423a-a7e2-851e468fef72",
   "metadata": {},
   "outputs": [
    {
     "data": {
      "text/plain": [
       "array([0.23554351, 0.76445649])"
      ]
     },
     "execution_count": 13,
     "metadata": {},
     "output_type": "execute_result"
    }
   ],
   "source": [
    "weights / np.sum(weights) # to impose constraint on weights to be equal to 1."
   ]
  },
  {
   "cell_type": "code",
   "execution_count": 14,
   "id": "afbdeeba-8799-4f1d-b4ed-15132eeb4b09",
   "metadata": {},
   "outputs": [],
   "source": [
    "weights = weights / np.sum(weights)"
   ]
  },
  {
   "cell_type": "code",
   "execution_count": 15,
   "id": "456fa729-d4af-4e5f-a0ae-79f0cd3a400e",
   "metadata": {},
   "outputs": [
    {
     "data": {
      "text/plain": [
       "1.0"
      ]
     },
     "execution_count": 15,
     "metadata": {},
     "output_type": "execute_result"
    }
   ],
   "source": [
    "weights[0] + weights[1] # Now the sum of the weights invested in both the assets is precesiely equal to 1."
   ]
  },
  {
   "cell_type": "code",
   "execution_count": 16,
   "id": "5cbe1073-1f13-4085-b834-c38325eebe41",
   "metadata": {},
   "outputs": [
    {
     "data": {
      "text/plain": [
       "0"
      ]
     },
     "execution_count": 16,
     "metadata": {},
     "output_type": "execute_result"
    }
   ],
   "source": [
    "weights = 0 # to start fresh for the following loop.\n",
    "weights"
   ]
  },
  {
   "cell_type": "code",
   "execution_count": 17,
   "id": "26004c57-4735-4c52-a799-5f4fe0077068",
   "metadata": {},
   "outputs": [
    {
     "name": "stdout",
     "output_type": "stream",
     "text": [
      "[0.61903202 0.38096798]\n",
      "[0.61280874 0.38719126]\n",
      "[0.87474197 0.12525803]\n",
      "[0.83537394 0.16462606]\n",
      "[0.50133587 0.49866413]\n"
     ]
    }
   ],
   "source": [
    "number_of_portfolios = 5\n",
    "for portfolio in range(number_of_portfolios):\n",
    "    weights = np.random.random_sample(len(tickers))\n",
    "    weights = weights / np.sum(weights)\n",
    "    print(weights)\n",
    "    \n",
    "# Now the weights invested in each portfolio is equal to 1."
   ]
  },
  {
   "cell_type": "code",
   "execution_count": 18,
   "id": "74b15e3b-feee-4604-a35b-5ac12dd27bce",
   "metadata": {},
   "outputs": [],
   "source": [
    "portfolio_return = []\n",
    "portfolio_risk = []\n",
    "sharpe_ratio = []\n",
    "portfolio_weights = []\n",
    "rf = 0"
   ]
  },
  {
   "cell_type": "code",
   "execution_count": 19,
   "id": "84b6c4c2-28c1-4f8f-a543-690a11d67d39",
   "metadata": {},
   "outputs": [
    {
     "data": {
      "text/plain": [
       "0"
      ]
     },
     "execution_count": 19,
     "metadata": {},
     "output_type": "execute_result"
    }
   ],
   "source": [
    "weights = 0 # to start fresh for the following loop.\n",
    "weights"
   ]
  },
  {
   "cell_type": "code",
   "execution_count": 20,
   "id": "970ed775-2bc9-47c9-bce1-74958a17fc18",
   "metadata": {},
   "outputs": [
    {
     "name": "stdout",
     "output_type": "stream",
     "text": [
      "[array([0.316, 0.684]), array([0.614, 0.386]), array([0.005, 0.995]), array([0.842, 0.158]), array([0.307, 0.693])]\n"
     ]
    }
   ],
   "source": [
    "number_of_portfolios = 5\n",
    "for portfolio in range(number_of_portfolios):\n",
    "    # Generate random portfolio weights\n",
    "    weights = np.random.random_sample(len(tickers))\n",
    "    weights = np.round((weights / np.sum(weights)), 3) # round-off to 3 decimal points\n",
    "    portfolio_weights.append(weights)\n",
    "\n",
    "print(portfolio_weights)"
   ]
  },
  {
   "cell_type": "markdown",
   "id": "e3b64ace-9bc9-4b78-8269-ad6e55620971",
   "metadata": {},
   "source": [
    "## Compute Annualized Portfolio Returns:"
   ]
  },
  {
   "cell_type": "code",
   "execution_count": 21,
   "id": "266625d6-9762-4e5a-92e8-4d635555d5da",
   "metadata": {},
   "outputs": [
    {
     "data": {
      "text/html": [
       "<div>\n",
       "<style scoped>\n",
       "    .dataframe tbody tr th:only-of-type {\n",
       "        vertical-align: middle;\n",
       "    }\n",
       "\n",
       "    .dataframe tbody tr th {\n",
       "        vertical-align: top;\n",
       "    }\n",
       "\n",
       "    .dataframe thead th {\n",
       "        text-align: right;\n",
       "    }\n",
       "</style>\n",
       "<table border=\"1\" class=\"dataframe\">\n",
       "  <thead>\n",
       "    <tr style=\"text-align: right;\">\n",
       "      <th></th>\n",
       "      <th>TSLA</th>\n",
       "      <th>BAC</th>\n",
       "    </tr>\n",
       "    <tr>\n",
       "      <th>Date</th>\n",
       "      <th></th>\n",
       "      <th></th>\n",
       "    </tr>\n",
       "  </thead>\n",
       "  <tbody>\n",
       "    <tr>\n",
       "      <th>2013-12-31</th>\n",
       "      <td>NaN</td>\n",
       "      <td>NaN</td>\n",
       "    </tr>\n",
       "    <tr>\n",
       "      <th>2014-01-02</th>\n",
       "      <td>-0.002194</td>\n",
       "      <td>0.034040</td>\n",
       "    </tr>\n",
       "    <tr>\n",
       "      <th>2014-01-03</th>\n",
       "      <td>-0.003598</td>\n",
       "      <td>0.019255</td>\n",
       "    </tr>\n",
       "    <tr>\n",
       "      <th>2014-01-06</th>\n",
       "      <td>-0.017117</td>\n",
       "      <td>0.015234</td>\n",
       "    </tr>\n",
       "    <tr>\n",
       "      <th>2014-01-07</th>\n",
       "      <td>0.016054</td>\n",
       "      <td>-0.009604</td>\n",
       "    </tr>\n",
       "    <tr>\n",
       "      <th>...</th>\n",
       "      <td>...</td>\n",
       "      <td>...</td>\n",
       "    </tr>\n",
       "    <tr>\n",
       "      <th>2020-11-16</th>\n",
       "      <td>-0.001004</td>\n",
       "      <td>0.021481</td>\n",
       "    </tr>\n",
       "    <tr>\n",
       "      <th>2020-11-17</th>\n",
       "      <td>0.082139</td>\n",
       "      <td>-0.001088</td>\n",
       "    </tr>\n",
       "    <tr>\n",
       "      <th>2020-11-18</th>\n",
       "      <td>0.101968</td>\n",
       "      <td>-0.020690</td>\n",
       "    </tr>\n",
       "    <tr>\n",
       "      <th>2020-11-19</th>\n",
       "      <td>0.025953</td>\n",
       "      <td>0.000000</td>\n",
       "    </tr>\n",
       "    <tr>\n",
       "      <th>2020-11-20</th>\n",
       "      <td>-0.019348</td>\n",
       "      <td>-0.006301</td>\n",
       "    </tr>\n",
       "  </tbody>\n",
       "</table>\n",
       "<p>1737 rows × 2 columns</p>\n",
       "</div>"
      ],
      "text/plain": [
       "                TSLA       BAC\n",
       "Date                          \n",
       "2013-12-31       NaN       NaN\n",
       "2014-01-02 -0.002194  0.034040\n",
       "2014-01-03 -0.003598  0.019255\n",
       "2014-01-06 -0.017117  0.015234\n",
       "2014-01-07  0.016054 -0.009604\n",
       "...              ...       ...\n",
       "2020-11-16 -0.001004  0.021481\n",
       "2020-11-17  0.082139 -0.001088\n",
       "2020-11-18  0.101968 -0.020690\n",
       "2020-11-19  0.025953  0.000000\n",
       "2020-11-20 -0.019348 -0.006301\n",
       "\n",
       "[1737 rows x 2 columns]"
      ]
     },
     "execution_count": 21,
     "metadata": {},
     "output_type": "execute_result"
    }
   ],
   "source": [
    "returns # the data frame, returns, contains daily returns of the 2 stocks."
   ]
  },
  {
   "cell_type": "code",
   "execution_count": 22,
   "id": "fb83a116-ba6a-4b6f-b0a0-2ed6cb6ecf37",
   "metadata": {},
   "outputs": [
    {
     "data": {
      "text/plain": [
       "TSLA    0.002186\n",
       "BAC     0.000582\n",
       "dtype: float64"
      ]
     },
     "execution_count": 22,
     "metadata": {},
     "output_type": "execute_result"
    }
   ],
   "source": [
    "returns.mean() \n",
    "# generates daily mean return for the two stocks. TSLA on average generates a daily return of $0.0022 per dollar\n",
    "# investment or $0.22 per 100 dollar investment."
   ]
  },
  {
   "cell_type": "code",
   "execution_count": 23,
   "id": "40fef497-7773-4fc5-891a-6d858f03edd4",
   "metadata": {},
   "outputs": [
    {
     "data": {
      "text/plain": [
       "array([0.307, 0.693])"
      ]
     },
     "execution_count": 23,
     "metadata": {},
     "output_type": "execute_result"
    }
   ],
   "source": [
    "weights # the weights of both the assets in a portfolio."
   ]
  },
  {
   "cell_type": "code",
   "execution_count": 24,
   "id": "bea67fe4-cd82-4b66-88df-8b46128a551b",
   "metadata": {},
   "outputs": [
    {
     "data": {
      "text/plain": [
       "(0.307, 0.693)"
      ]
     },
     "execution_count": 24,
     "metadata": {},
     "output_type": "execute_result"
    }
   ],
   "source": [
    "weights[0], weights[1]"
   ]
  },
  {
   "cell_type": "code",
   "execution_count": 25,
   "id": "49379275-109a-4e83-8324-e700e06db03a",
   "metadata": {},
   "outputs": [
    {
     "data": {
      "text/plain": [
       "0.001074428"
      ]
     },
     "execution_count": 25,
     "metadata": {},
     "output_type": "execute_result"
    }
   ],
   "source": [
    "0.002186 * weights[0] + 0.000582 * weights[1] \n",
    "# Portfolio of these weights generate daily expected return of $0.0014 per dollar investment or return of $0.14 \n",
    "# per 100 dollar investment."
   ]
  },
  {
   "cell_type": "code",
   "execution_count": 26,
   "id": "ca0acfb6-84dd-4591-96f0-db1294d16743",
   "metadata": {},
   "outputs": [
    {
     "data": {
      "text/plain": [
       "0.0010742228562874248"
      ]
     },
     "execution_count": 26,
     "metadata": {},
     "output_type": "execute_result"
    }
   ],
   "source": [
    "np.sum(returns.mean() * weights) \n",
    "\n",
    "# generates the portfolio's daily expected return given the means and weights. We cannot change the mean daily \n",
    "# returns but can change the weights, which will change the portfolio's expected return.\n",
    "\n",
    "# Investing 52.7% of the total available funds in TSLA and 47.3% in BAC has the expected daily portfolio return of\n",
    "# $0.00143 per dollar of investment or $0.143 per 100 dollars of investment. "
   ]
  },
  {
   "cell_type": "code",
   "execution_count": 27,
   "id": "f0706467-0d31-44ca-be89-18af8ca3ea84",
   "metadata": {},
   "outputs": [
    {
     "data": {
      "text/plain": [
       "0.270704159784431"
      ]
     },
     "execution_count": 27,
     "metadata": {},
     "output_type": "execute_result"
    }
   ],
   "source": [
    "np.sum(returns.mean() * weights) * 252 \n",
    "# 252 days since stock markets usally trade for 252 days in a year.\n",
    "# generates annualized return of the portfolio. So, $1 invested in this portfolio is expected to generate a return\n",
    "# of almost $0.25 in a year or $100 invested in this portfolio is expected to generate a return of almost $25 in a\n",
    "# year."
   ]
  },
  {
   "cell_type": "code",
   "execution_count": 28,
   "id": "fd268544-6ad1-4395-85e7-748e975a8cc8",
   "metadata": {},
   "outputs": [
    {
     "data": {
      "text/plain": [
       "([],\n",
       " [],\n",
       " [],\n",
       " [array([0.316, 0.684]),\n",
       "  array([0.614, 0.386]),\n",
       "  array([0.005, 0.995]),\n",
       "  array([0.842, 0.158]),\n",
       "  array([0.307, 0.693])],\n",
       " 0,\n",
       " array([0.307, 0.693]))"
      ]
     },
     "execution_count": 28,
     "metadata": {},
     "output_type": "execute_result"
    }
   ],
   "source": [
    "portfolio_return, portfolio_risk, sharpe_ratio, portfolio_weights, rf, weights"
   ]
  },
  {
   "cell_type": "code",
   "execution_count": 29,
   "id": "1e76069b-86c8-490d-9621-b1eb26cade24",
   "metadata": {},
   "outputs": [],
   "source": [
    "portfolio_return = []\n",
    "portfolio_risk = []\n",
    "sharpe_ratio = []\n",
    "portfolio_weights = []\n",
    "rf = 0\n",
    "\n",
    "# to start fresh for the following loop."
   ]
  },
  {
   "cell_type": "code",
   "execution_count": 30,
   "id": "e0b06145-d08e-496b-a441-2da53fa02745",
   "metadata": {},
   "outputs": [],
   "source": [
    "weights = 0"
   ]
  },
  {
   "cell_type": "code",
   "execution_count": 31,
   "id": "6cac056e-b4a4-43dd-aa2e-0af467deaf55",
   "metadata": {},
   "outputs": [
    {
     "name": "stdout",
     "output_type": "stream",
     "text": [
      "[array([0.667, 0.333]), array([0.461, 0.539]), array([1., 0.]), array([0.296, 0.704]), array([0.157, 0.843])]\n",
      "[0.416, 0.333, 0.551, 0.266, 0.21]\n"
     ]
    }
   ],
   "source": [
    "number_of_portfolios = 5\n",
    "for portfolio in range(number_of_portfolios):\n",
    "    # Generate random portfolio weights\n",
    "    weights = np.random.random_sample(len(tickers))\n",
    "    weights = np.round((weights / np.sum(weights)), 3) # round-off to 3 decimal points\n",
    "    portfolio_weights.append(weights)\n",
    "    #Generate annualized portfolio return\n",
    "    annualized_return = np.sum(returns.mean() * weights) * 252\n",
    "    annualized_return = np.round((annualized_return), 3)\n",
    "    portfolio_return.append(annualized_return)\n",
    "\n",
    "print(portfolio_weights)\n",
    "print(portfolio_return)"
   ]
  },
  {
   "cell_type": "markdown",
   "id": "f6a2097f-8f73-43c3-a344-e21284b1d718",
   "metadata": {},
   "source": [
    "## Compute Covariance Matrix and Portfolio's Risk:"
   ]
  },
  {
   "cell_type": "code",
   "execution_count": 32,
   "id": "0d8baa2c-a2d1-48c1-bb59-b1dcd1fe4162",
   "metadata": {},
   "outputs": [
    {
     "data": {
      "text/html": [
       "<div>\n",
       "<style scoped>\n",
       "    .dataframe tbody tr th:only-of-type {\n",
       "        vertical-align: middle;\n",
       "    }\n",
       "\n",
       "    .dataframe tbody tr th {\n",
       "        vertical-align: top;\n",
       "    }\n",
       "\n",
       "    .dataframe thead th {\n",
       "        text-align: right;\n",
       "    }\n",
       "</style>\n",
       "<table border=\"1\" class=\"dataframe\">\n",
       "  <thead>\n",
       "    <tr style=\"text-align: right;\">\n",
       "      <th></th>\n",
       "      <th>TSLA</th>\n",
       "      <th>BAC</th>\n",
       "    </tr>\n",
       "    <tr>\n",
       "      <th>Date</th>\n",
       "      <th></th>\n",
       "      <th></th>\n",
       "    </tr>\n",
       "  </thead>\n",
       "  <tbody>\n",
       "    <tr>\n",
       "      <th>2013-12-31</th>\n",
       "      <td>NaN</td>\n",
       "      <td>NaN</td>\n",
       "    </tr>\n",
       "    <tr>\n",
       "      <th>2014-01-02</th>\n",
       "      <td>-0.002194</td>\n",
       "      <td>0.034040</td>\n",
       "    </tr>\n",
       "    <tr>\n",
       "      <th>2014-01-03</th>\n",
       "      <td>-0.003598</td>\n",
       "      <td>0.019255</td>\n",
       "    </tr>\n",
       "    <tr>\n",
       "      <th>2014-01-06</th>\n",
       "      <td>-0.017117</td>\n",
       "      <td>0.015234</td>\n",
       "    </tr>\n",
       "    <tr>\n",
       "      <th>2014-01-07</th>\n",
       "      <td>0.016054</td>\n",
       "      <td>-0.009604</td>\n",
       "    </tr>\n",
       "    <tr>\n",
       "      <th>...</th>\n",
       "      <td>...</td>\n",
       "      <td>...</td>\n",
       "    </tr>\n",
       "    <tr>\n",
       "      <th>2020-11-16</th>\n",
       "      <td>-0.001004</td>\n",
       "      <td>0.021481</td>\n",
       "    </tr>\n",
       "    <tr>\n",
       "      <th>2020-11-17</th>\n",
       "      <td>0.082139</td>\n",
       "      <td>-0.001088</td>\n",
       "    </tr>\n",
       "    <tr>\n",
       "      <th>2020-11-18</th>\n",
       "      <td>0.101968</td>\n",
       "      <td>-0.020690</td>\n",
       "    </tr>\n",
       "    <tr>\n",
       "      <th>2020-11-19</th>\n",
       "      <td>0.025953</td>\n",
       "      <td>0.000000</td>\n",
       "    </tr>\n",
       "    <tr>\n",
       "      <th>2020-11-20</th>\n",
       "      <td>-0.019348</td>\n",
       "      <td>-0.006301</td>\n",
       "    </tr>\n",
       "  </tbody>\n",
       "</table>\n",
       "<p>1737 rows × 2 columns</p>\n",
       "</div>"
      ],
      "text/plain": [
       "                TSLA       BAC\n",
       "Date                          \n",
       "2013-12-31       NaN       NaN\n",
       "2014-01-02 -0.002194  0.034040\n",
       "2014-01-03 -0.003598  0.019255\n",
       "2014-01-06 -0.017117  0.015234\n",
       "2014-01-07  0.016054 -0.009604\n",
       "...              ...       ...\n",
       "2020-11-16 -0.001004  0.021481\n",
       "2020-11-17  0.082139 -0.001088\n",
       "2020-11-18  0.101968 -0.020690\n",
       "2020-11-19  0.025953  0.000000\n",
       "2020-11-20 -0.019348 -0.006301\n",
       "\n",
       "[1737 rows x 2 columns]"
      ]
     },
     "execution_count": 32,
     "metadata": {},
     "output_type": "execute_result"
    }
   ],
   "source": [
    "returns"
   ]
  },
  {
   "cell_type": "code",
   "execution_count": 33,
   "id": "0940cd5b-8a69-4d51-bf8b-02287f1cfed7",
   "metadata": {},
   "outputs": [
    {
     "data": {
      "text/html": [
       "<div>\n",
       "<style scoped>\n",
       "    .dataframe tbody tr th:only-of-type {\n",
       "        vertical-align: middle;\n",
       "    }\n",
       "\n",
       "    .dataframe tbody tr th {\n",
       "        vertical-align: top;\n",
       "    }\n",
       "\n",
       "    .dataframe thead th {\n",
       "        text-align: right;\n",
       "    }\n",
       "</style>\n",
       "<table border=\"1\" class=\"dataframe\">\n",
       "  <thead>\n",
       "    <tr style=\"text-align: right;\">\n",
       "      <th></th>\n",
       "      <th>TSLA</th>\n",
       "      <th>BAC</th>\n",
       "    </tr>\n",
       "  </thead>\n",
       "  <tbody>\n",
       "    <tr>\n",
       "      <th>TSLA</th>\n",
       "      <td>0.001160</td>\n",
       "      <td>0.000187</td>\n",
       "    </tr>\n",
       "    <tr>\n",
       "      <th>BAC</th>\n",
       "      <td>0.000187</td>\n",
       "      <td>0.000410</td>\n",
       "    </tr>\n",
       "  </tbody>\n",
       "</table>\n",
       "</div>"
      ],
      "text/plain": [
       "          TSLA       BAC\n",
       "TSLA  0.001160  0.000187\n",
       "BAC   0.000187  0.000410"
      ]
     },
     "execution_count": 33,
     "metadata": {},
     "output_type": "execute_result"
    }
   ],
   "source": [
    "returns.cov()"
   ]
  },
  {
   "cell_type": "code",
   "execution_count": 34,
   "id": "ecb6d41d-1004-469c-a1a3-3d543e388341",
   "metadata": {},
   "outputs": [
    {
     "data": {
      "text/html": [
       "<div>\n",
       "<style scoped>\n",
       "    .dataframe tbody tr th:only-of-type {\n",
       "        vertical-align: middle;\n",
       "    }\n",
       "\n",
       "    .dataframe tbody tr th {\n",
       "        vertical-align: top;\n",
       "    }\n",
       "\n",
       "    .dataframe thead th {\n",
       "        text-align: right;\n",
       "    }\n",
       "</style>\n",
       "<table border=\"1\" class=\"dataframe\">\n",
       "  <thead>\n",
       "    <tr style=\"text-align: right;\">\n",
       "      <th></th>\n",
       "      <th>TSLA</th>\n",
       "      <th>BAC</th>\n",
       "    </tr>\n",
       "  </thead>\n",
       "  <tbody>\n",
       "    <tr>\n",
       "      <th>TSLA</th>\n",
       "      <td>0.292387</td>\n",
       "      <td>0.047138</td>\n",
       "    </tr>\n",
       "    <tr>\n",
       "      <th>BAC</th>\n",
       "      <td>0.047138</td>\n",
       "      <td>0.103215</td>\n",
       "    </tr>\n",
       "  </tbody>\n",
       "</table>\n",
       "</div>"
      ],
      "text/plain": [
       "          TSLA       BAC\n",
       "TSLA  0.292387  0.047138\n",
       "BAC   0.047138  0.103215"
      ]
     },
     "execution_count": 34,
     "metadata": {},
     "output_type": "execute_result"
    }
   ],
   "source": [
    "returns.cov() * 252"
   ]
  },
  {
   "cell_type": "code",
   "execution_count": 35,
   "id": "d99f2dd6-9add-4422-9319-d79a75ee920c",
   "metadata": {},
   "outputs": [
    {
     "data": {
      "text/html": [
       "<div>\n",
       "<style scoped>\n",
       "    .dataframe tbody tr th:only-of-type {\n",
       "        vertical-align: middle;\n",
       "    }\n",
       "\n",
       "    .dataframe tbody tr th {\n",
       "        vertical-align: top;\n",
       "    }\n",
       "\n",
       "    .dataframe thead th {\n",
       "        text-align: right;\n",
       "    }\n",
       "</style>\n",
       "<table border=\"1\" class=\"dataframe\">\n",
       "  <thead>\n",
       "    <tr style=\"text-align: right;\">\n",
       "      <th></th>\n",
       "      <th>TSLA</th>\n",
       "      <th>BAC</th>\n",
       "    </tr>\n",
       "  </thead>\n",
       "  <tbody>\n",
       "    <tr>\n",
       "      <th>TSLA</th>\n",
       "      <td>0.292387</td>\n",
       "      <td>0.047138</td>\n",
       "    </tr>\n",
       "    <tr>\n",
       "      <th>BAC</th>\n",
       "      <td>0.047138</td>\n",
       "      <td>0.103215</td>\n",
       "    </tr>\n",
       "  </tbody>\n",
       "</table>\n",
       "</div>"
      ],
      "text/plain": [
       "          TSLA       BAC\n",
       "TSLA  0.292387  0.047138\n",
       "BAC   0.047138  0.103215"
      ]
     },
     "execution_count": 35,
     "metadata": {},
     "output_type": "execute_result"
    }
   ],
   "source": [
    "covariance_matrix = returns.cov() * 252\n",
    "covariance_matrix"
   ]
  },
  {
   "cell_type": "code",
   "execution_count": 36,
   "id": "4447717e-1024-4947-ae33-c161c84e7519",
   "metadata": {},
   "outputs": [
    {
     "data": {
      "text/plain": [
       "array([0.157, 0.843])"
      ]
     },
     "execution_count": 36,
     "metadata": {},
     "output_type": "execute_result"
    }
   ],
   "source": [
    "weights"
   ]
  },
  {
   "cell_type": "code",
   "execution_count": 37,
   "id": "6ea552f8-eb38-414b-ad19-c2cf669ef609",
   "metadata": {},
   "outputs": [
    {
     "data": {
      "text/plain": [
       "array([0.157, 0.843])"
      ]
     },
     "execution_count": 37,
     "metadata": {},
     "output_type": "execute_result"
    }
   ],
   "source": [
    "weights.T # step A in excel."
   ]
  },
  {
   "cell_type": "code",
   "execution_count": 38,
   "id": "2df35e7b-f859-406a-9438-2093db546649",
   "metadata": {},
   "outputs": [
    {
     "data": {
      "text/plain": [
       "array([0.08564186, 0.09441105])"
      ]
     },
     "execution_count": 38,
     "metadata": {},
     "output_type": "execute_result"
    }
   ],
   "source": [
    "np.dot(covariance_matrix, weights) # step B in excel."
   ]
  },
  {
   "cell_type": "code",
   "execution_count": 39,
   "id": "3b06da37-0595-456d-9af0-848ca3be89db",
   "metadata": {},
   "outputs": [
    {
     "data": {
      "text/plain": [
       "0.09303428690531006"
      ]
     },
     "execution_count": 39,
     "metadata": {},
     "output_type": "execute_result"
    }
   ],
   "source": [
    "np.dot(weights.T, np.dot(covariance_matrix, weights)) # step C in excel."
   ]
  },
  {
   "cell_type": "code",
   "execution_count": 40,
   "id": "b4709a61-60ae-4f21-9d5d-c7b59dd13a1e",
   "metadata": {},
   "outputs": [
    {
     "data": {
      "text/plain": [
       "0.09303428690531006"
      ]
     },
     "execution_count": 40,
     "metadata": {},
     "output_type": "execute_result"
    }
   ],
   "source": [
    "portfolio_variance = np.dot(weights.T, np.dot(covariance_matrix, weights))\n",
    "portfolio_variance"
   ]
  },
  {
   "cell_type": "code",
   "execution_count": 41,
   "id": "9510008b-035b-406b-972f-1c9e787d9a2e",
   "metadata": {},
   "outputs": [
    {
     "data": {
      "text/plain": [
       "0.30501522405498066"
      ]
     },
     "execution_count": 41,
     "metadata": {},
     "output_type": "execute_result"
    }
   ],
   "source": [
    "standard_deviation = np.sqrt(portfolio_variance)\n",
    "standard_deviation"
   ]
  },
  {
   "cell_type": "code",
   "execution_count": 42,
   "id": "bc3409bd-d4bd-45fb-a729-3ca0c0b1f9a5",
   "metadata": {},
   "outputs": [
    {
     "data": {
      "text/plain": [
       "([0.416, 0.333, 0.551, 0.266, 0.21],\n",
       " [],\n",
       " [],\n",
       " [array([0.667, 0.333]),\n",
       "  array([0.461, 0.539]),\n",
       "  array([1., 0.]),\n",
       "  array([0.296, 0.704]),\n",
       "  array([0.157, 0.843])],\n",
       " array([0.157, 0.843]),\n",
       " 0.21,\n",
       " 0)"
      ]
     },
     "execution_count": 42,
     "metadata": {},
     "output_type": "execute_result"
    }
   ],
   "source": [
    "portfolio_return, portfolio_risk, sharpe_ratio, portfolio_weights, weights, annualized_return, rf"
   ]
  },
  {
   "cell_type": "code",
   "execution_count": 43,
   "id": "405a9aeb-996a-49f8-a3e3-fbd53408cfaa",
   "metadata": {},
   "outputs": [],
   "source": [
    "portfolio_return = []\n",
    "portfolio_risk = []\n",
    "sharpe_ratio = []\n",
    "portfolio_weights = []\n",
    "rf = 0\n",
    "\n",
    "# to start fresh for the following loop."
   ]
  },
  {
   "cell_type": "code",
   "execution_count": 44,
   "id": "9144604f-2ac7-4979-a275-b5374408d2c0",
   "metadata": {},
   "outputs": [],
   "source": [
    "weights = 0\n",
    "annualized_return = 0"
   ]
  },
  {
   "cell_type": "code",
   "execution_count": 45,
   "id": "195204f4-5464-4a8c-852d-cacce365420e",
   "metadata": {},
   "outputs": [
    {
     "name": "stdout",
     "output_type": "stream",
     "text": [
      "[array([0.197, 0.803]), array([0.616, 0.384]), array([0.595, 0.405]), array([0.211, 0.789]), array([0.006, 0.994])]\n",
      "[0.22624037740199435, 0.3956069666587307, 0.38711842638572, 0.2318994042506681, 0.1490350825379451]\n",
      "[0.30465533668523836, 0.38531537417807726, 0.3783651099543409, 0.30490307072877015, 0.320239171969772]\n"
     ]
    }
   ],
   "source": [
    "number_of_portfolios = 5\n",
    "for portfolio in range(number_of_portfolios):\n",
    "    # Generate random portfolio weights\n",
    "    weights = np.random.random_sample(len(tickers))\n",
    "    weights = np.round((weights / np.sum(weights)), 3) # round-off to 3 decimal points\n",
    "    portfolio_weights.append(weights)\n",
    "    #Generate annualized portfolio return\n",
    "    annualized_return = np.sum(returns.mean() * weights) * 252\n",
    "    portfolio_return.append(annualized_return)\n",
    "    # Generate Portfolio risk\n",
    "    covariance_matrix = returns.cov() * 252\n",
    "    portfolio_variance = np.dot(weights.T, np.dot(covariance_matrix, weights))\n",
    "    portfolio_standard_deviation = np.sqrt(portfolio_variance)\n",
    "    portfolio_risk.append(portfolio_standard_deviation)\n",
    "\n",
    "print(portfolio_weights)\n",
    "print(portfolio_return)\n",
    "print(portfolio_risk)"
   ]
  },
  {
   "cell_type": "markdown",
   "id": "00202395-493a-40d0-ae4c-9676ba869c2f",
   "metadata": {},
   "source": [
    "## Compute Sharpe Ratio"
   ]
  },
  {
   "cell_type": "code",
   "execution_count": 46,
   "id": "9217f7c8-8a88-4112-bde0-6a8678308c6e",
   "metadata": {},
   "outputs": [
    {
     "data": {
      "text/plain": [
       "0.1490350825379451"
      ]
     },
     "execution_count": 46,
     "metadata": {},
     "output_type": "execute_result"
    }
   ],
   "source": [
    "annualized_return # the portfolio's expected annual return."
   ]
  },
  {
   "cell_type": "code",
   "execution_count": 47,
   "id": "657e85cc-7b01-43d1-bf70-0a7b11ad993b",
   "metadata": {},
   "outputs": [
    {
     "data": {
      "text/plain": [
       "0"
      ]
     },
     "execution_count": 47,
     "metadata": {},
     "output_type": "execute_result"
    }
   ],
   "source": [
    "rf"
   ]
  },
  {
   "cell_type": "code",
   "execution_count": 48,
   "id": "967ecf26-6318-46de-b3b9-c621c31cb892",
   "metadata": {},
   "outputs": [
    {
     "data": {
      "text/plain": [
       "0.1490350825379451"
      ]
     },
     "execution_count": 48,
     "metadata": {},
     "output_type": "execute_result"
    }
   ],
   "source": [
    "annualized_return - rf"
   ]
  },
  {
   "cell_type": "code",
   "execution_count": 49,
   "id": "2e9f6496-b95f-4ea0-8ca2-bb989f4dd1fe",
   "metadata": {},
   "outputs": [
    {
     "data": {
      "text/plain": [
       "0.320239171969772"
      ]
     },
     "execution_count": 49,
     "metadata": {},
     "output_type": "execute_result"
    }
   ],
   "source": [
    "portfolio_standard_deviation"
   ]
  },
  {
   "cell_type": "code",
   "execution_count": 50,
   "id": "54f2c9f1-081a-4da8-8a89-03f9f6b9a509",
   "metadata": {},
   "outputs": [],
   "source": [
    "shrp_ratio = (annualized_return - rf) / portfolio_standard_deviation"
   ]
  },
  {
   "cell_type": "code",
   "execution_count": 51,
   "id": "fbbdf0b1-fd6a-49a8-a086-64a98920e31f",
   "metadata": {},
   "outputs": [
    {
     "data": {
      "text/plain": [
       "0.4653867970655783"
      ]
     },
     "execution_count": 51,
     "metadata": {},
     "output_type": "execute_result"
    }
   ],
   "source": [
    "shrp_ratio\n",
    "# risk premium per unit of risk. The higher the shrp ratio is, the better it is."
   ]
  },
  {
   "cell_type": "code",
   "execution_count": 52,
   "id": "0267cc61-104a-4f20-9966-fd87b7169d73",
   "metadata": {},
   "outputs": [
    {
     "data": {
      "text/plain": [
       "([0.22624037740199435,\n",
       "  0.3956069666587307,\n",
       "  0.38711842638572,\n",
       "  0.2318994042506681,\n",
       "  0.1490350825379451],\n",
       " [0.30465533668523836,\n",
       "  0.38531537417807726,\n",
       "  0.3783651099543409,\n",
       "  0.30490307072877015,\n",
       "  0.320239171969772],\n",
       " [],\n",
       " [array([0.197, 0.803]),\n",
       "  array([0.616, 0.384]),\n",
       "  array([0.595, 0.405]),\n",
       "  array([0.211, 0.789]),\n",
       "  array([0.006, 0.994])],\n",
       " array([0.006, 0.994]),\n",
       " 0.1490350825379451,\n",
       " 0)"
      ]
     },
     "execution_count": 52,
     "metadata": {},
     "output_type": "execute_result"
    }
   ],
   "source": [
    "portfolio_return, portfolio_risk, sharpe_ratio, portfolio_weights, weights, annualized_return, rf"
   ]
  },
  {
   "cell_type": "code",
   "execution_count": 53,
   "id": "d022f641-f9c4-43bc-9df1-92e70f7a6d2c",
   "metadata": {},
   "outputs": [],
   "source": [
    "portfolio_return = []\n",
    "portfolio_risk = []\n",
    "sharpe_ratio = []\n",
    "portfolio_weights = []\n",
    "rf = 0"
   ]
  },
  {
   "cell_type": "code",
   "execution_count": 54,
   "id": "607d9e78-a22a-4766-91a8-4d2570ce4f13",
   "metadata": {},
   "outputs": [],
   "source": [
    "weights = 0\n",
    "annualized_return = 0"
   ]
  },
  {
   "cell_type": "code",
   "execution_count": 55,
   "id": "4b45945b-1216-4dab-902c-e78f064002c5",
   "metadata": {},
   "outputs": [
    {
     "name": "stdout",
     "output_type": "stream",
     "text": [
      "[array([0.553, 0.447]), array([0.671, 0.329]), array([0.497, 0.503]), array([0.908, 0.092]), array([0.144, 0.856])]\n",
      "[0.37014134583969877, 0.4178388578499491, 0.34750523844500364, 0.5136380980739264, 0.20481691861772933]\n",
      "[0.36516010738812793, 0.40451058562229236, 0.3491483647368537, 0.49981137093294414, 0.3054721100122615]\n",
      "[1.013641244897204, 1.0329491308791159, 0.9952939023698752, 1.027663890709756, 0.6704930234367651]\n"
     ]
    }
   ],
   "source": [
    "number_of_portfolios = 5\n",
    "for portfolio in range(number_of_portfolios):\n",
    "    # Generate random portfolio weights\n",
    "    weights = np.random.random_sample(len(tickers))\n",
    "    weights = np.round((weights / np.sum(weights)), 3) # round-off to 3 decimal points\n",
    "    portfolio_weights.append(weights)\n",
    "    #Generate annualized portfolio return\n",
    "    annualized_return = np.sum(returns.mean() * weights) * 252\n",
    "    portfolio_return.append(annualized_return)\n",
    "    # Generate Portfolio risk\n",
    "    covariance_matrix = returns.cov() * 252\n",
    "    portfolio_variance = np.dot(weights.T, np.dot(covariance_matrix, weights))\n",
    "    portfolio_standard_deviation = np.sqrt(portfolio_variance)\n",
    "    portfolio_risk.append(portfolio_standard_deviation)\n",
    "    #Generate Sharpe Ratio\n",
    "    shrp_ratio = (annualized_return - rf) / portfolio_standard_deviation\n",
    "    sharpe_ratio.append(shrp_ratio)\n",
    "\n",
    "print(portfolio_weights)\n",
    "print(portfolio_return)\n",
    "print(portfolio_risk)\n",
    "print(sharpe_ratio)"
   ]
  },
  {
   "cell_type": "code",
   "execution_count": 56,
   "id": "4f20e673-1052-4a76-a8c3-abf85558b8b0",
   "metadata": {},
   "outputs": [],
   "source": [
    "# Based on the Sharpe Ratio, the portfolio 5 is the best among all the five portfolios since it has the highest Sharpe \n",
    "# Ratio, thus, the highest risk premium it offers per unit of risk."
   ]
  },
  {
   "cell_type": "code",
   "execution_count": 57,
   "id": "df3be603-775a-49bb-8149-2329c12e39bb",
   "metadata": {},
   "outputs": [
    {
     "data": {
      "text/plain": [
       "(list, list, list, list)"
      ]
     },
     "execution_count": 57,
     "metadata": {},
     "output_type": "execute_result"
    }
   ],
   "source": [
    "type(portfolio_weights), type(portfolio_return), type(portfolio_risk), type(sharpe_ratio)"
   ]
  },
  {
   "cell_type": "code",
   "execution_count": 58,
   "id": "8060a41a-a901-4538-81f9-ae3b2a6ed05c",
   "metadata": {},
   "outputs": [],
   "source": [
    "portfolio_weights = np.array(portfolio_weights)\n",
    "portfolio_return = np.array(portfolio_return)\n",
    "portfolio_risk = np.array(portfolio_risk)\n",
    "sharpe_ratio = np.array(sharpe_ratio)\n",
    "# change the lists to numpy arrays for better data manipulations."
   ]
  },
  {
   "cell_type": "code",
   "execution_count": 59,
   "id": "ebc74da5-e2c5-4744-9308-50025e083dcc",
   "metadata": {},
   "outputs": [
    {
     "name": "stdout",
     "output_type": "stream",
     "text": [
      "[[0.553 0.447]\n",
      " [0.671 0.329]\n",
      " [0.497 0.503]\n",
      " [0.908 0.092]\n",
      " [0.144 0.856]]\n",
      "[0.37014135 0.41783886 0.34750524 0.5136381  0.20481692]\n",
      "[0.36516011 0.40451059 0.34914836 0.49981137 0.30547211]\n",
      "[1.01364124 1.03294913 0.9952939  1.02766389 0.67049302]\n"
     ]
    }
   ],
   "source": [
    "print(portfolio_weights)\n",
    "print(portfolio_return)\n",
    "print(portfolio_risk)\n",
    "print(sharpe_ratio)\n",
    "\n",
    "# list items are seperated by commas, where arrays elements are not it appears."
   ]
  },
  {
   "cell_type": "code",
   "execution_count": 60,
   "id": "42b0931d-0efe-4002-b9be-98463054d6e9",
   "metadata": {},
   "outputs": [
    {
     "data": {
      "text/plain": [
       "(numpy.ndarray, numpy.ndarray, numpy.ndarray, numpy.ndarray)"
      ]
     },
     "execution_count": 60,
     "metadata": {},
     "output_type": "execute_result"
    }
   ],
   "source": [
    "type(portfolio_weights), type(portfolio_return), type(portfolio_risk), type(sharpe_ratio)"
   ]
  },
  {
   "cell_type": "code",
   "execution_count": 61,
   "id": "2066c44f-aff9-4702-ac9f-1e1c06e24b2a",
   "metadata": {},
   "outputs": [
    {
     "data": {
      "text/plain": [
       "[array([0.37014135, 0.41783886, 0.34750524, 0.5136381 , 0.20481692]),\n",
       " array([0.36516011, 0.40451059, 0.34914836, 0.49981137, 0.30547211]),\n",
       " array([1.01364124, 1.03294913, 0.9952939 , 1.02766389, 0.67049302]),\n",
       " array([[0.553, 0.447],\n",
       "        [0.671, 0.329],\n",
       "        [0.497, 0.503],\n",
       "        [0.908, 0.092],\n",
       "        [0.144, 0.856]])]"
      ]
     },
     "execution_count": 61,
     "metadata": {},
     "output_type": "execute_result"
    }
   ],
   "source": [
    "portfolio_metrics = [portfolio_return, portfolio_risk, sharpe_ratio, portfolio_weights]\n",
    "portfolio_metrics"
   ]
  },
  {
   "cell_type": "code",
   "execution_count": 62,
   "id": "a55f04fb-616e-4ea4-bc82-e6417a4b8a4f",
   "metadata": {},
   "outputs": [
    {
     "data": {
      "text/html": [
       "<div>\n",
       "<style scoped>\n",
       "    .dataframe tbody tr th:only-of-type {\n",
       "        vertical-align: middle;\n",
       "    }\n",
       "\n",
       "    .dataframe tbody tr th {\n",
       "        vertical-align: top;\n",
       "    }\n",
       "\n",
       "    .dataframe thead th {\n",
       "        text-align: right;\n",
       "    }\n",
       "</style>\n",
       "<table border=\"1\" class=\"dataframe\">\n",
       "  <thead>\n",
       "    <tr style=\"text-align: right;\">\n",
       "      <th></th>\n",
       "      <th>0</th>\n",
       "      <th>1</th>\n",
       "      <th>2</th>\n",
       "      <th>3</th>\n",
       "      <th>4</th>\n",
       "    </tr>\n",
       "  </thead>\n",
       "  <tbody>\n",
       "    <tr>\n",
       "      <th>0</th>\n",
       "      <td>0.370141</td>\n",
       "      <td>0.417839</td>\n",
       "      <td>0.347505</td>\n",
       "      <td>0.513638</td>\n",
       "      <td>0.204817</td>\n",
       "    </tr>\n",
       "    <tr>\n",
       "      <th>1</th>\n",
       "      <td>0.36516</td>\n",
       "      <td>0.404511</td>\n",
       "      <td>0.349148</td>\n",
       "      <td>0.499811</td>\n",
       "      <td>0.305472</td>\n",
       "    </tr>\n",
       "    <tr>\n",
       "      <th>2</th>\n",
       "      <td>1.013641</td>\n",
       "      <td>1.032949</td>\n",
       "      <td>0.995294</td>\n",
       "      <td>1.027664</td>\n",
       "      <td>0.670493</td>\n",
       "    </tr>\n",
       "    <tr>\n",
       "      <th>3</th>\n",
       "      <td>[0.553, 0.447]</td>\n",
       "      <td>[0.671, 0.329]</td>\n",
       "      <td>[0.497, 0.503]</td>\n",
       "      <td>[0.908, 0.092]</td>\n",
       "      <td>[0.144, 0.856]</td>\n",
       "    </tr>\n",
       "  </tbody>\n",
       "</table>\n",
       "</div>"
      ],
      "text/plain": [
       "                0               1               2               3  \\\n",
       "0        0.370141        0.417839        0.347505        0.513638   \n",
       "1         0.36516        0.404511        0.349148        0.499811   \n",
       "2        1.013641        1.032949        0.995294        1.027664   \n",
       "3  [0.553, 0.447]  [0.671, 0.329]  [0.497, 0.503]  [0.908, 0.092]   \n",
       "\n",
       "                4  \n",
       "0        0.204817  \n",
       "1        0.305472  \n",
       "2        0.670493  \n",
       "3  [0.144, 0.856]  "
      ]
     },
     "execution_count": 62,
     "metadata": {},
     "output_type": "execute_result"
    }
   ],
   "source": [
    "portfolio_df = pd.DataFrame(portfolio_metrics)\n",
    "portfolio_df\n",
    "\n",
    "# row 0 is portfolio_return, row 1 is portfolio_risk, row 3 is sharpe_ratio, and row 4 is portfolio_weights."
   ]
  },
  {
   "cell_type": "code",
   "execution_count": 63,
   "id": "c9f59835-5a5a-425c-9a53-4a2bcf00ef4b",
   "metadata": {},
   "outputs": [
    {
     "data": {
      "text/html": [
       "<div>\n",
       "<style scoped>\n",
       "    .dataframe tbody tr th:only-of-type {\n",
       "        vertical-align: middle;\n",
       "    }\n",
       "\n",
       "    .dataframe tbody tr th {\n",
       "        vertical-align: top;\n",
       "    }\n",
       "\n",
       "    .dataframe thead th {\n",
       "        text-align: right;\n",
       "    }\n",
       "</style>\n",
       "<table border=\"1\" class=\"dataframe\">\n",
       "  <thead>\n",
       "    <tr style=\"text-align: right;\">\n",
       "      <th></th>\n",
       "      <th>0</th>\n",
       "      <th>1</th>\n",
       "      <th>2</th>\n",
       "      <th>3</th>\n",
       "    </tr>\n",
       "  </thead>\n",
       "  <tbody>\n",
       "    <tr>\n",
       "      <th>0</th>\n",
       "      <td>0.370141</td>\n",
       "      <td>0.36516</td>\n",
       "      <td>1.013641</td>\n",
       "      <td>[0.553, 0.447]</td>\n",
       "    </tr>\n",
       "    <tr>\n",
       "      <th>1</th>\n",
       "      <td>0.417839</td>\n",
       "      <td>0.404511</td>\n",
       "      <td>1.032949</td>\n",
       "      <td>[0.671, 0.329]</td>\n",
       "    </tr>\n",
       "    <tr>\n",
       "      <th>2</th>\n",
       "      <td>0.347505</td>\n",
       "      <td>0.349148</td>\n",
       "      <td>0.995294</td>\n",
       "      <td>[0.497, 0.503]</td>\n",
       "    </tr>\n",
       "    <tr>\n",
       "      <th>3</th>\n",
       "      <td>0.513638</td>\n",
       "      <td>0.499811</td>\n",
       "      <td>1.027664</td>\n",
       "      <td>[0.908, 0.092]</td>\n",
       "    </tr>\n",
       "    <tr>\n",
       "      <th>4</th>\n",
       "      <td>0.204817</td>\n",
       "      <td>0.305472</td>\n",
       "      <td>0.670493</td>\n",
       "      <td>[0.144, 0.856]</td>\n",
       "    </tr>\n",
       "  </tbody>\n",
       "</table>\n",
       "</div>"
      ],
      "text/plain": [
       "          0         1         2               3\n",
       "0  0.370141   0.36516  1.013641  [0.553, 0.447]\n",
       "1  0.417839  0.404511  1.032949  [0.671, 0.329]\n",
       "2  0.347505  0.349148  0.995294  [0.497, 0.503]\n",
       "3  0.513638  0.499811  1.027664  [0.908, 0.092]\n",
       "4  0.204817  0.305472  0.670493  [0.144, 0.856]"
      ]
     },
     "execution_count": 63,
     "metadata": {},
     "output_type": "execute_result"
    }
   ],
   "source": [
    "portfolio_df = portfolio_df.T\n",
    "portfolio_df\n",
    "\n",
    "# now column 0 is portfolio_return, column 1 is portfolio_risk, column 2 is sharpe_ratio, and column 4 is portfolio\n",
    "# _weights."
   ]
  },
  {
   "cell_type": "code",
   "execution_count": 64,
   "id": "2355b539-944c-4a29-b2ba-6840c7eb8444",
   "metadata": {},
   "outputs": [
    {
     "data": {
      "text/html": [
       "<div>\n",
       "<style scoped>\n",
       "    .dataframe tbody tr th:only-of-type {\n",
       "        vertical-align: middle;\n",
       "    }\n",
       "\n",
       "    .dataframe tbody tr th {\n",
       "        vertical-align: top;\n",
       "    }\n",
       "\n",
       "    .dataframe thead th {\n",
       "        text-align: right;\n",
       "    }\n",
       "</style>\n",
       "<table border=\"1\" class=\"dataframe\">\n",
       "  <thead>\n",
       "    <tr style=\"text-align: right;\">\n",
       "      <th></th>\n",
       "      <th>Return</th>\n",
       "      <th>Risk</th>\n",
       "      <th>Sharpe</th>\n",
       "      <th>Weights</th>\n",
       "    </tr>\n",
       "  </thead>\n",
       "  <tbody>\n",
       "    <tr>\n",
       "      <th>0</th>\n",
       "      <td>0.370141</td>\n",
       "      <td>0.36516</td>\n",
       "      <td>1.013641</td>\n",
       "      <td>[0.553, 0.447]</td>\n",
       "    </tr>\n",
       "    <tr>\n",
       "      <th>1</th>\n",
       "      <td>0.417839</td>\n",
       "      <td>0.404511</td>\n",
       "      <td>1.032949</td>\n",
       "      <td>[0.671, 0.329]</td>\n",
       "    </tr>\n",
       "    <tr>\n",
       "      <th>2</th>\n",
       "      <td>0.347505</td>\n",
       "      <td>0.349148</td>\n",
       "      <td>0.995294</td>\n",
       "      <td>[0.497, 0.503]</td>\n",
       "    </tr>\n",
       "    <tr>\n",
       "      <th>3</th>\n",
       "      <td>0.513638</td>\n",
       "      <td>0.499811</td>\n",
       "      <td>1.027664</td>\n",
       "      <td>[0.908, 0.092]</td>\n",
       "    </tr>\n",
       "    <tr>\n",
       "      <th>4</th>\n",
       "      <td>0.204817</td>\n",
       "      <td>0.305472</td>\n",
       "      <td>0.670493</td>\n",
       "      <td>[0.144, 0.856]</td>\n",
       "    </tr>\n",
       "  </tbody>\n",
       "</table>\n",
       "</div>"
      ],
      "text/plain": [
       "     Return      Risk    Sharpe         Weights\n",
       "0  0.370141   0.36516  1.013641  [0.553, 0.447]\n",
       "1  0.417839  0.404511  1.032949  [0.671, 0.329]\n",
       "2  0.347505  0.349148  0.995294  [0.497, 0.503]\n",
       "3  0.513638  0.499811  1.027664  [0.908, 0.092]\n",
       "4  0.204817  0.305472  0.670493  [0.144, 0.856]"
      ]
     },
     "execution_count": 64,
     "metadata": {},
     "output_type": "execute_result"
    }
   ],
   "source": [
    "portfolio_df.columns = ['Return', 'Risk', 'Sharpe', 'Weights']\n",
    "portfolio_df"
   ]
  },
  {
   "cell_type": "markdown",
   "id": "9a052825-f526-4ede-b17a-22c9a33e4ff1",
   "metadata": {},
   "source": [
    "## Everything Together:"
   ]
  },
  {
   "cell_type": "code",
   "execution_count": 65,
   "id": "6e245aea-7fc3-4f4b-9098-09d1a30eeeda",
   "metadata": {},
   "outputs": [
    {
     "data": {
      "text/plain": [
       "(                TSLA       BAC\n",
       " Date                          \n",
       " 2013-12-31       NaN       NaN\n",
       " 2014-01-02 -0.002194  0.034040\n",
       " 2014-01-03 -0.003598  0.019255\n",
       " 2014-01-06 -0.017117  0.015234\n",
       " 2014-01-07  0.016054 -0.009604\n",
       " ...              ...       ...\n",
       " 2020-11-16 -0.001004  0.021481\n",
       " 2020-11-17  0.082139 -0.001088\n",
       " 2020-11-18  0.101968 -0.020690\n",
       " 2020-11-19  0.025953  0.000000\n",
       " 2020-11-20 -0.019348 -0.006301\n",
       " \n",
       " [1737 rows x 2 columns],\n",
       " array([0.37014135, 0.41783886, 0.34750524, 0.5136381 , 0.20481692]),\n",
       " array([0.36516011, 0.40451059, 0.34914836, 0.49981137, 0.30547211]),\n",
       " array([1.01364124, 1.03294913, 0.9952939 , 1.02766389, 0.67049302]),\n",
       " array([[0.553, 0.447],\n",
       "        [0.671, 0.329],\n",
       "        [0.497, 0.503],\n",
       "        [0.908, 0.092],\n",
       "        [0.144, 0.856]]),\n",
       " 0,\n",
       " array([0.144, 0.856]),\n",
       " 0.20481691861772933)"
      ]
     },
     "execution_count": 65,
     "metadata": {},
     "output_type": "execute_result"
    }
   ],
   "source": [
    "returns, portfolio_return, portfolio_risk, sharpe_ratio, portfolio_weights, rf, weights, annualized_return\n",
    "# the data carried forward from previous work. It needs to be deleted to run the following loops."
   ]
  },
  {
   "cell_type": "code",
   "execution_count": 66,
   "id": "ec8424fd-440e-4dc3-8006-d50c486e67dd",
   "metadata": {},
   "outputs": [],
   "source": [
    "returns = pd.DataFrame()\n",
    "portfolio_return = []\n",
    "portfolio_risk = []\n",
    "sharpe_ratio = []\n",
    "portfolio_weights = []\n",
    "rf = 0\n",
    "weights = 0\n",
    "annualized_return = 0"
   ]
  },
  {
   "cell_type": "code",
   "execution_count": 67,
   "id": "5e5d93ec-b42c-4f1e-b5f4-ae8af68b3cc7",
   "metadata": {},
   "outputs": [],
   "source": [
    "tickers = ['TSLA', 'BAC']\n",
    "returns = pd.DataFrame()"
   ]
  },
  {
   "cell_type": "code",
   "execution_count": 68,
   "id": "c63235fb-a676-47db-bf9b-565e12b1264a",
   "metadata": {},
   "outputs": [
    {
     "data": {
      "text/html": [
       "<div>\n",
       "<style scoped>\n",
       "    .dataframe tbody tr th:only-of-type {\n",
       "        vertical-align: middle;\n",
       "    }\n",
       "\n",
       "    .dataframe tbody tr th {\n",
       "        vertical-align: top;\n",
       "    }\n",
       "\n",
       "    .dataframe thead th {\n",
       "        text-align: right;\n",
       "    }\n",
       "</style>\n",
       "<table border=\"1\" class=\"dataframe\">\n",
       "  <thead>\n",
       "    <tr style=\"text-align: right;\">\n",
       "      <th></th>\n",
       "      <th>TSLA</th>\n",
       "      <th>BAC</th>\n",
       "    </tr>\n",
       "    <tr>\n",
       "      <th>Date</th>\n",
       "      <th></th>\n",
       "      <th></th>\n",
       "    </tr>\n",
       "  </thead>\n",
       "  <tbody>\n",
       "    <tr>\n",
       "      <th>2013-12-31</th>\n",
       "      <td>NaN</td>\n",
       "      <td>NaN</td>\n",
       "    </tr>\n",
       "    <tr>\n",
       "      <th>2014-01-02</th>\n",
       "      <td>-0.002194</td>\n",
       "      <td>0.034040</td>\n",
       "    </tr>\n",
       "    <tr>\n",
       "      <th>2014-01-03</th>\n",
       "      <td>-0.003598</td>\n",
       "      <td>0.019255</td>\n",
       "    </tr>\n",
       "    <tr>\n",
       "      <th>2014-01-06</th>\n",
       "      <td>-0.017117</td>\n",
       "      <td>0.015235</td>\n",
       "    </tr>\n",
       "    <tr>\n",
       "      <th>2014-01-07</th>\n",
       "      <td>0.016054</td>\n",
       "      <td>-0.009604</td>\n",
       "    </tr>\n",
       "    <tr>\n",
       "      <th>...</th>\n",
       "      <td>...</td>\n",
       "      <td>...</td>\n",
       "    </tr>\n",
       "    <tr>\n",
       "      <th>2020-11-16</th>\n",
       "      <td>-0.001004</td>\n",
       "      <td>0.021481</td>\n",
       "    </tr>\n",
       "    <tr>\n",
       "      <th>2020-11-17</th>\n",
       "      <td>0.082139</td>\n",
       "      <td>-0.001088</td>\n",
       "    </tr>\n",
       "    <tr>\n",
       "      <th>2020-11-18</th>\n",
       "      <td>0.101968</td>\n",
       "      <td>-0.020690</td>\n",
       "    </tr>\n",
       "    <tr>\n",
       "      <th>2020-11-19</th>\n",
       "      <td>0.025953</td>\n",
       "      <td>0.000000</td>\n",
       "    </tr>\n",
       "    <tr>\n",
       "      <th>2020-11-20</th>\n",
       "      <td>-0.019348</td>\n",
       "      <td>-0.006301</td>\n",
       "    </tr>\n",
       "  </tbody>\n",
       "</table>\n",
       "<p>1737 rows × 2 columns</p>\n",
       "</div>"
      ],
      "text/plain": [
       "                TSLA       BAC\n",
       "Date                          \n",
       "2013-12-31       NaN       NaN\n",
       "2014-01-02 -0.002194  0.034040\n",
       "2014-01-03 -0.003598  0.019255\n",
       "2014-01-06 -0.017117  0.015235\n",
       "2014-01-07  0.016054 -0.009604\n",
       "...              ...       ...\n",
       "2020-11-16 -0.001004  0.021481\n",
       "2020-11-17  0.082139 -0.001088\n",
       "2020-11-18  0.101968 -0.020690\n",
       "2020-11-19  0.025953  0.000000\n",
       "2020-11-20 -0.019348 -0.006301\n",
       "\n",
       "[1737 rows x 2 columns]"
      ]
     },
     "execution_count": 68,
     "metadata": {},
     "output_type": "execute_result"
    }
   ],
   "source": [
    "for ticker in tickers:\n",
    "    data = web.DataReader(ticker, 'yahoo', start, end) \n",
    "    data[ticker] = data['Adj Close'].pct_change()\n",
    "    \n",
    "    if returns.empty:\n",
    "        returns = data[[ticker]]\n",
    "    else:\n",
    "        returns = returns.join(data[[ticker]], how = 'outer')\n",
    "        \n",
    "returns"
   ]
  },
  {
   "cell_type": "code",
   "execution_count": 69,
   "id": "954f7d4a-23db-40db-8384-8b36ab7ff75a",
   "metadata": {},
   "outputs": [],
   "source": [
    "number_of_portfolios = 10000\n",
    "for portfolio in range(number_of_portfolios):\n",
    "    # Generate random portfolio weights\n",
    "    weights = np.random.random_sample(len(tickers))\n",
    "    weights = np.round((weights / np.sum(weights)), 3) # round-off to 3 decimal points\n",
    "    portfolio_weights.append(weights)\n",
    "    #Generate annualized portfolio return\n",
    "    annualized_return = np.sum(returns.mean() * weights) * 252\n",
    "    portfolio_return.append(annualized_return)\n",
    "    # Generate Portfolio risk\n",
    "    covariance_matrix = returns.cov() * 252\n",
    "    portfolio_variance = np.dot(weights.T, np.dot(covariance_matrix, weights))\n",
    "    portfolio_standard_deviation = np.sqrt(portfolio_variance)\n",
    "    portfolio_risk.append(portfolio_standard_deviation)\n",
    "    #Generate Sharpe Ratio\n",
    "    shrp_ratio = (annualized_return - rf) / portfolio_standard_deviation\n",
    "    sharpe_ratio.append(shrp_ratio)\n",
    "\n",
    "# print(portfolio_weights)\n",
    "# print(portfolio_return)\n",
    "# print(portfolio_risk)\n",
    "# print(sharpe_ratio)\n",
    "\n",
    "# comment out the print statements since this is too much output."
   ]
  },
  {
   "cell_type": "code",
   "execution_count": 70,
   "id": "687e9d77-a396-4ae5-bc01-c215e3c520fa",
   "metadata": {},
   "outputs": [],
   "source": [
    "portfolio_weights = np.array(portfolio_weights)\n",
    "portfolio_return = np.array(portfolio_return)\n",
    "portfolio_risk = np.array(portfolio_risk)\n",
    "sharpe_ratio = np.array(sharpe_ratio)"
   ]
  },
  {
   "cell_type": "code",
   "execution_count": 71,
   "id": "ceff0eef-8df2-4c73-a313-ea4b6ba16fb0",
   "metadata": {},
   "outputs": [],
   "source": [
    "# print(portfolio_weights)\n",
    "# print(portfolio_return)\n",
    "# print(portfolio_risk)\n",
    "# print(sharpe_ratio)\n",
    "\n",
    "# comment out these print statement since this will be too much of the output."
   ]
  },
  {
   "cell_type": "code",
   "execution_count": 72,
   "id": "ce4ba917-6a6c-4a7b-b457-3aa84a5d2e8b",
   "metadata": {},
   "outputs": [],
   "source": [
    "portfolio_metrics = [portfolio_return, portfolio_risk, sharpe_ratio, portfolio_weights]\n",
    "#portfolio_metrics\n",
    "\n",
    "# comment out printing of the portfolio_metrics due too much output."
   ]
  },
  {
   "cell_type": "code",
   "execution_count": 73,
   "id": "cadc5165-9140-45be-b51a-69129432f8ed",
   "metadata": {},
   "outputs": [],
   "source": [
    "portfolio_df = pd.DataFrame(portfolio_metrics)\n",
    "#portfolio_df"
   ]
  },
  {
   "cell_type": "code",
   "execution_count": 74,
   "id": "4422ac79-9ef3-4e0b-92f5-77fe76127fb4",
   "metadata": {},
   "outputs": [],
   "source": [
    "portfolio_df = portfolio_df.T\n",
    "#portfolio_df"
   ]
  },
  {
   "cell_type": "code",
   "execution_count": 75,
   "id": "cf21422e-0f52-4ef2-92ef-bfbe29e855cd",
   "metadata": {},
   "outputs": [
    {
     "data": {
      "text/html": [
       "<div>\n",
       "<style scoped>\n",
       "    .dataframe tbody tr th:only-of-type {\n",
       "        vertical-align: middle;\n",
       "    }\n",
       "\n",
       "    .dataframe tbody tr th {\n",
       "        vertical-align: top;\n",
       "    }\n",
       "\n",
       "    .dataframe thead th {\n",
       "        text-align: right;\n",
       "    }\n",
       "</style>\n",
       "<table border=\"1\" class=\"dataframe\">\n",
       "  <thead>\n",
       "    <tr style=\"text-align: right;\">\n",
       "      <th></th>\n",
       "      <th>Return</th>\n",
       "      <th>Risk</th>\n",
       "      <th>Sharpe</th>\n",
       "      <th>Weights</th>\n",
       "    </tr>\n",
       "  </thead>\n",
       "  <tbody>\n",
       "    <tr>\n",
       "      <th>0</th>\n",
       "      <td>0.399649</td>\n",
       "      <td>0.388701</td>\n",
       "      <td>1.028165</td>\n",
       "      <td>[0.626, 0.374]</td>\n",
       "    </tr>\n",
       "    <tr>\n",
       "      <th>1</th>\n",
       "      <td>0.350739</td>\n",
       "      <td>0.351316</td>\n",
       "      <td>0.998358</td>\n",
       "      <td>[0.505, 0.495]</td>\n",
       "    </tr>\n",
       "    <tr>\n",
       "      <th>2</th>\n",
       "      <td>0.38914</td>\n",
       "      <td>0.38</td>\n",
       "      <td>1.024052</td>\n",
       "      <td>[0.6, 0.4]</td>\n",
       "    </tr>\n",
       "    <tr>\n",
       "      <th>3</th>\n",
       "      <td>0.366908</td>\n",
       "      <td>0.362756</td>\n",
       "      <td>1.011443</td>\n",
       "      <td>[0.545, 0.455]</td>\n",
       "    </tr>\n",
       "    <tr>\n",
       "      <th>4</th>\n",
       "      <td>0.397224</td>\n",
       "      <td>0.386664</td>\n",
       "      <td>1.02731</td>\n",
       "      <td>[0.62, 0.38]</td>\n",
       "    </tr>\n",
       "    <tr>\n",
       "      <th>...</th>\n",
       "      <td>...</td>\n",
       "      <td>...</td>\n",
       "      <td>...</td>\n",
       "      <td>...</td>\n",
       "    </tr>\n",
       "    <tr>\n",
       "      <th>9995</th>\n",
       "      <td>0.29617</td>\n",
       "      <td>0.320889</td>\n",
       "      <td>0.922968</td>\n",
       "      <td>[0.37, 0.63]</td>\n",
       "    </tr>\n",
       "    <tr>\n",
       "      <th>9996</th>\n",
       "      <td>0.37095</td>\n",
       "      <td>0.365767</td>\n",
       "      <td>1.01417</td>\n",
       "      <td>[0.555, 0.445]</td>\n",
       "    </tr>\n",
       "    <tr>\n",
       "      <th>9997</th>\n",
       "      <td>0.361653</td>\n",
       "      <td>0.358931</td>\n",
       "      <td>1.007583</td>\n",
       "      <td>[0.532, 0.468]</td>\n",
       "    </tr>\n",
       "    <tr>\n",
       "      <th>9998</th>\n",
       "      <td>0.373375</td>\n",
       "      <td>0.3676</td>\n",
       "      <td>1.015709</td>\n",
       "      <td>[0.561, 0.439]</td>\n",
       "    </tr>\n",
       "    <tr>\n",
       "      <th>9999</th>\n",
       "      <td>0.414605</td>\n",
       "      <td>0.401635</td>\n",
       "      <td>1.032295</td>\n",
       "      <td>[0.663, 0.337]</td>\n",
       "    </tr>\n",
       "  </tbody>\n",
       "</table>\n",
       "<p>10000 rows × 4 columns</p>\n",
       "</div>"
      ],
      "text/plain": [
       "        Return      Risk    Sharpe         Weights\n",
       "0     0.399649  0.388701  1.028165  [0.626, 0.374]\n",
       "1     0.350739  0.351316  0.998358  [0.505, 0.495]\n",
       "2      0.38914      0.38  1.024052      [0.6, 0.4]\n",
       "3     0.366908  0.362756  1.011443  [0.545, 0.455]\n",
       "4     0.397224  0.386664   1.02731    [0.62, 0.38]\n",
       "...        ...       ...       ...             ...\n",
       "9995   0.29617  0.320889  0.922968    [0.37, 0.63]\n",
       "9996   0.37095  0.365767   1.01417  [0.555, 0.445]\n",
       "9997  0.361653  0.358931  1.007583  [0.532, 0.468]\n",
       "9998  0.373375    0.3676  1.015709  [0.561, 0.439]\n",
       "9999  0.414605  0.401635  1.032295  [0.663, 0.337]\n",
       "\n",
       "[10000 rows x 4 columns]"
      ]
     },
     "execution_count": 75,
     "metadata": {},
     "output_type": "execute_result"
    }
   ],
   "source": [
    "portfolio_df.columns = ['Return', 'Risk', 'Sharpe', 'Weights']\n",
    "portfolio_df"
   ]
  },
  {
   "cell_type": "markdown",
   "id": "d1b2c0f4-f4ae-4639-a6f6-3be8ff0eb47e",
   "metadata": {},
   "source": [
    "### Identify a minimum risk portfolio:"
   ]
  },
  {
   "cell_type": "code",
   "execution_count": 76,
   "id": "117a0e0b-312a-4245-a0e8-8e5260913bbd",
   "metadata": {},
   "outputs": [
    {
     "data": {
      "text/html": [
       "<div>\n",
       "<style scoped>\n",
       "    .dataframe tbody tr th:only-of-type {\n",
       "        vertical-align: middle;\n",
       "    }\n",
       "\n",
       "    .dataframe tbody tr th {\n",
       "        vertical-align: top;\n",
       "    }\n",
       "\n",
       "    .dataframe thead th {\n",
       "        text-align: right;\n",
       "    }\n",
       "</style>\n",
       "<table border=\"1\" class=\"dataframe\">\n",
       "  <thead>\n",
       "    <tr style=\"text-align: right;\">\n",
       "      <th></th>\n",
       "      <th>Return</th>\n",
       "      <th>Risk</th>\n",
       "      <th>Sharpe</th>\n",
       "      <th>Weights</th>\n",
       "    </tr>\n",
       "  </thead>\n",
       "  <tbody>\n",
       "    <tr>\n",
       "      <th>0</th>\n",
       "      <td>0.399649</td>\n",
       "      <td>0.388701</td>\n",
       "      <td>1.028165</td>\n",
       "      <td>[0.626, 0.374]</td>\n",
       "    </tr>\n",
       "    <tr>\n",
       "      <th>1</th>\n",
       "      <td>0.350739</td>\n",
       "      <td>0.351316</td>\n",
       "      <td>0.998358</td>\n",
       "      <td>[0.505, 0.495]</td>\n",
       "    </tr>\n",
       "    <tr>\n",
       "      <th>2</th>\n",
       "      <td>0.38914</td>\n",
       "      <td>0.38</td>\n",
       "      <td>1.024052</td>\n",
       "      <td>[0.6, 0.4]</td>\n",
       "    </tr>\n",
       "    <tr>\n",
       "      <th>3</th>\n",
       "      <td>0.366908</td>\n",
       "      <td>0.362756</td>\n",
       "      <td>1.011443</td>\n",
       "      <td>[0.545, 0.455]</td>\n",
       "    </tr>\n",
       "    <tr>\n",
       "      <th>4</th>\n",
       "      <td>0.397224</td>\n",
       "      <td>0.386664</td>\n",
       "      <td>1.02731</td>\n",
       "      <td>[0.62, 0.38]</td>\n",
       "    </tr>\n",
       "    <tr>\n",
       "      <th>...</th>\n",
       "      <td>...</td>\n",
       "      <td>...</td>\n",
       "      <td>...</td>\n",
       "      <td>...</td>\n",
       "    </tr>\n",
       "    <tr>\n",
       "      <th>9995</th>\n",
       "      <td>0.29617</td>\n",
       "      <td>0.320889</td>\n",
       "      <td>0.922968</td>\n",
       "      <td>[0.37, 0.63]</td>\n",
       "    </tr>\n",
       "    <tr>\n",
       "      <th>9996</th>\n",
       "      <td>0.37095</td>\n",
       "      <td>0.365767</td>\n",
       "      <td>1.01417</td>\n",
       "      <td>[0.555, 0.445]</td>\n",
       "    </tr>\n",
       "    <tr>\n",
       "      <th>9997</th>\n",
       "      <td>0.361653</td>\n",
       "      <td>0.358931</td>\n",
       "      <td>1.007583</td>\n",
       "      <td>[0.532, 0.468]</td>\n",
       "    </tr>\n",
       "    <tr>\n",
       "      <th>9998</th>\n",
       "      <td>0.373375</td>\n",
       "      <td>0.3676</td>\n",
       "      <td>1.015709</td>\n",
       "      <td>[0.561, 0.439]</td>\n",
       "    </tr>\n",
       "    <tr>\n",
       "      <th>9999</th>\n",
       "      <td>0.414605</td>\n",
       "      <td>0.401635</td>\n",
       "      <td>1.032295</td>\n",
       "      <td>[0.663, 0.337]</td>\n",
       "    </tr>\n",
       "  </tbody>\n",
       "</table>\n",
       "<p>10000 rows × 4 columns</p>\n",
       "</div>"
      ],
      "text/plain": [
       "        Return      Risk    Sharpe         Weights\n",
       "0     0.399649  0.388701  1.028165  [0.626, 0.374]\n",
       "1     0.350739  0.351316  0.998358  [0.505, 0.495]\n",
       "2      0.38914      0.38  1.024052      [0.6, 0.4]\n",
       "3     0.366908  0.362756  1.011443  [0.545, 0.455]\n",
       "4     0.397224  0.386664   1.02731    [0.62, 0.38]\n",
       "...        ...       ...       ...             ...\n",
       "9995   0.29617  0.320889  0.922968    [0.37, 0.63]\n",
       "9996   0.37095  0.365767   1.01417  [0.555, 0.445]\n",
       "9997  0.361653  0.358931  1.007583  [0.532, 0.468]\n",
       "9998  0.373375    0.3676  1.015709  [0.561, 0.439]\n",
       "9999  0.414605  0.401635  1.032295  [0.663, 0.337]\n",
       "\n",
       "[10000 rows x 4 columns]"
      ]
     },
     "execution_count": 76,
     "metadata": {},
     "output_type": "execute_result"
    }
   ],
   "source": [
    "portfolio_df"
   ]
  },
  {
   "cell_type": "code",
   "execution_count": 77,
   "id": "af374692-8447-4b8e-900a-ec95b3409519",
   "metadata": {},
   "outputs": [
    {
     "data": {
      "text/plain": [
       "3312"
      ]
     },
     "execution_count": 77,
     "metadata": {},
     "output_type": "execute_result"
    }
   ],
   "source": [
    "portfolio_df['Risk'].astype(float).idxmin() # returns the row index of minimum risk, which in this case is 1."
   ]
  },
  {
   "cell_type": "code",
   "execution_count": 78,
   "id": "32fba8d0-d245-411b-9619-28d7b5689532",
   "metadata": {},
   "outputs": [
    {
     "data": {
      "text/plain": [
       "Return           0.221794\n",
       "Risk             0.304597\n",
       "Sharpe           0.728157\n",
       "Weights    [0.186, 0.814]\n",
       "Name: 3312, dtype: object"
      ]
     },
     "execution_count": 78,
     "metadata": {},
     "output_type": "execute_result"
    }
   ],
   "source": [
    "portfolio_df.iloc[portfolio_df['Risk'].astype(float).idxmin()] \n",
    "#.iloc gets 1, so portfolio_df.iloc[1] produces the entire row indexed 1."
   ]
  },
  {
   "cell_type": "code",
   "execution_count": 79,
   "id": "2ec40f07-6ade-4da8-85ad-7748368f42c0",
   "metadata": {},
   "outputs": [
    {
     "data": {
      "text/plain": [
       "Return           0.221794\n",
       "Risk             0.304597\n",
       "Sharpe           0.728157\n",
       "Weights    [0.186, 0.814]\n",
       "Name: 3312, dtype: object"
      ]
     },
     "execution_count": 79,
     "metadata": {},
     "output_type": "execute_result"
    }
   ],
   "source": [
    "min_risk_portfolio = portfolio_df.iloc[portfolio_df['Risk'].astype(float).idxmin()]\n",
    "min_risk_portfolio\n",
    "\n",
    "# among all the known portfolios, this is the one with the minimum risk."
   ]
  },
  {
   "cell_type": "code",
   "execution_count": 80,
   "id": "14fb2ddc-3361-491f-9edd-080767caa399",
   "metadata": {},
   "outputs": [
    {
     "data": {
      "text/plain": [
       "Return       0.550826\n",
       "Risk         0.540728\n",
       "Sharpe       1.018675\n",
       "Weights    [1.0, 0.0]\n",
       "Name: 2016, dtype: object"
      ]
     },
     "execution_count": 80,
     "metadata": {},
     "output_type": "execute_result"
    }
   ],
   "source": [
    "max_return_portfolio = portfolio_df.iloc[portfolio_df['Return'].astype(float).idxmax()]\n",
    "max_return_portfolio\n",
    "\n",
    "# among all the known portfolios, this is the one with the maximum return."
   ]
  },
  {
   "cell_type": "code",
   "execution_count": 81,
   "id": "ea113a71-43f0-4804-8cee-28a44c86901c",
   "metadata": {},
   "outputs": [
    {
     "data": {
      "text/plain": [
       "Return           0.448559\n",
       "Risk             0.433103\n",
       "Sharpe           1.035687\n",
       "Weights    [0.747, 0.253]\n",
       "Name: 181, dtype: object"
      ]
     },
     "execution_count": 81,
     "metadata": {},
     "output_type": "execute_result"
    }
   ],
   "source": [
    "max_sharpe_portfolio = portfolio_df.iloc[portfolio_df['Sharpe'].astype(float).idxmax()]\n",
    "max_sharpe_portfolio\n",
    "\n",
    "# among all the known portfolios, this is the one with the maximum sharpe ratio."
   ]
  },
  {
   "cell_type": "code",
   "execution_count": 82,
   "id": "a59fd5e8-f941-4c2f-b8a2-dc2f8b73e803",
   "metadata": {},
   "outputs": [
    {
     "name": "stdout",
     "output_type": "stream",
     "text": [
      "Minimum Risk Portfolio\n",
      "Return           0.221794\n",
      "Risk             0.304597\n",
      "Sharpe           0.728157\n",
      "Weights    [0.186, 0.814]\n",
      "Name: 3312, dtype: object\n",
      "['TSLA', 'BAC']\n",
      "\n",
      "Maximum Return Portfolio\n",
      "Return       0.550826\n",
      "Risk         0.540728\n",
      "Sharpe       1.018675\n",
      "Weights    [1.0, 0.0]\n",
      "Name: 2016, dtype: object\n",
      "['TSLA', 'BAC']\n",
      "\n",
      "Maximum Sharpe Ratio Portfolio\n",
      "Return           0.448559\n",
      "Risk             0.433103\n",
      "Sharpe           1.035687\n",
      "Weights    [0.747, 0.253]\n",
      "Name: 181, dtype: object\n",
      "['TSLA', 'BAC']\n",
      "\n"
     ]
    }
   ],
   "source": [
    "print('Minimum Risk Portfolio')\n",
    "print(min_risk_portfolio)\n",
    "print(tickers)\n",
    "print('')\n",
    "\n",
    "print('Maximum Return Portfolio')\n",
    "print(max_return_portfolio)\n",
    "print(tickers)\n",
    "print('')\n",
    "\n",
    "print('Maximum Sharpe Ratio Portfolio')\n",
    "print(max_sharpe_portfolio)\n",
    "print(tickers)\n",
    "print('')"
   ]
  },
  {
   "cell_type": "markdown",
   "id": "ac219911-3330-43af-8d0f-c5d57f2def81",
   "metadata": {},
   "source": [
    "### Visualization:"
   ]
  },
  {
   "cell_type": "code",
   "execution_count": 83,
   "id": "13a56d3e-8e94-47ea-830d-8ff2a25ef5b6",
   "metadata": {},
   "outputs": [],
   "source": [
    "# portfolio_risk # will be shown along x-axis. Commented out due too much output."
   ]
  },
  {
   "cell_type": "code",
   "execution_count": 84,
   "id": "4aa2b0d1-7683-45a8-888c-e7c1bcbda217",
   "metadata": {},
   "outputs": [],
   "source": [
    "# portfolio_return # will be shown along y-axis. Commented out due too much output."
   ]
  },
  {
   "cell_type": "code",
   "execution_count": 85,
   "id": "df9e42bd-380e-4663-9e32-42f6fb8962bd",
   "metadata": {},
   "outputs": [],
   "source": [
    "# portfolio_return / portfolio_risk # commented out due to too much output."
   ]
  },
  {
   "cell_type": "code",
   "execution_count": 86,
   "id": "baf133d0-4ccb-438e-afc4-40e2d062b226",
   "metadata": {},
   "outputs": [
    {
     "name": "stderr",
     "output_type": "stream",
     "text": [
      "C:\\Users\\AITZAZ~1\\AppData\\Local\\Temp/ipykernel_14808/2933732217.py:12: MatplotlibDeprecationWarning: Auto-removal of grids by pcolor() and pcolormesh() is deprecated since 3.5 and will be removed two minor releases later; please call grid(False) first.\n",
      "  plt.colorbar(label = 'Sharpe Ratio')\n"
     ]
    },
    {
     "data": {
      "image/png": "[encoded data removed]",
      "text/plain": [
       "<Figure size 720x360 with 2 Axes>"
      ]
     },
     "metadata": {},
     "output_type": "display_data"
    }
   ],
   "source": [
    "plt.figure(figsize = (10, 5))\n",
    "plt.scatter(portfolio_risk, portfolio_return, c = portfolio_return / portfolio_risk) # c for colorbar based on sharpe.\n",
    "\n",
    "plt.title('Portfolio Optimization', fontsize = 26)\n",
    "\n",
    "plt.xlabel('Volatility', fontsize = 20)\n",
    "plt.ylabel('Return', fontsize = 20)\n",
    "\n",
    "plt.xticks(fontsize = 15)\n",
    "plt.yticks(fontsize = 15)\n",
    "\n",
    "plt.colorbar(label = 'Sharpe Ratio')\n",
    "\n",
    "plt.show()\n",
    "\n",
    "# Note first run for TSLA and BCA for 5 portfolios, and then 100 portfolios and then 10000 portfolios.\n",
    "# Finally, make it 5 stocks and 20000 portfolios.\n"
   ]
  },
  {
   "cell_type": "markdown",
   "id": "40749c75-893a-4327-8401-8a69e73a329d",
   "metadata": {},
   "source": [
    "### Comparison with individual assets:"
   ]
  },
  {
   "cell_type": "code",
   "execution_count": 87,
   "id": "578df07a-ca10-473d-a85a-ba3b3506babc",
   "metadata": {},
   "outputs": [
    {
     "data": {
      "text/html": [
       "<div>\n",
       "<style scoped>\n",
       "    .dataframe tbody tr th:only-of-type {\n",
       "        vertical-align: middle;\n",
       "    }\n",
       "\n",
       "    .dataframe tbody tr th {\n",
       "        vertical-align: top;\n",
       "    }\n",
       "\n",
       "    .dataframe thead th {\n",
       "        text-align: right;\n",
       "    }\n",
       "</style>\n",
       "<table border=\"1\" class=\"dataframe\">\n",
       "  <thead>\n",
       "    <tr style=\"text-align: right;\">\n",
       "      <th></th>\n",
       "      <th>TSLA</th>\n",
       "      <th>BAC</th>\n",
       "    </tr>\n",
       "    <tr>\n",
       "      <th>Date</th>\n",
       "      <th></th>\n",
       "      <th></th>\n",
       "    </tr>\n",
       "  </thead>\n",
       "  <tbody>\n",
       "    <tr>\n",
       "      <th>2013-12-31</th>\n",
       "      <td>NaN</td>\n",
       "      <td>NaN</td>\n",
       "    </tr>\n",
       "    <tr>\n",
       "      <th>2014-01-02</th>\n",
       "      <td>-0.002194</td>\n",
       "      <td>0.034040</td>\n",
       "    </tr>\n",
       "    <tr>\n",
       "      <th>2014-01-03</th>\n",
       "      <td>-0.003598</td>\n",
       "      <td>0.019255</td>\n",
       "    </tr>\n",
       "    <tr>\n",
       "      <th>2014-01-06</th>\n",
       "      <td>-0.017117</td>\n",
       "      <td>0.015235</td>\n",
       "    </tr>\n",
       "    <tr>\n",
       "      <th>2014-01-07</th>\n",
       "      <td>0.016054</td>\n",
       "      <td>-0.009604</td>\n",
       "    </tr>\n",
       "    <tr>\n",
       "      <th>...</th>\n",
       "      <td>...</td>\n",
       "      <td>...</td>\n",
       "    </tr>\n",
       "    <tr>\n",
       "      <th>2020-11-16</th>\n",
       "      <td>-0.001004</td>\n",
       "      <td>0.021481</td>\n",
       "    </tr>\n",
       "    <tr>\n",
       "      <th>2020-11-17</th>\n",
       "      <td>0.082139</td>\n",
       "      <td>-0.001088</td>\n",
       "    </tr>\n",
       "    <tr>\n",
       "      <th>2020-11-18</th>\n",
       "      <td>0.101968</td>\n",
       "      <td>-0.020690</td>\n",
       "    </tr>\n",
       "    <tr>\n",
       "      <th>2020-11-19</th>\n",
       "      <td>0.025953</td>\n",
       "      <td>0.000000</td>\n",
       "    </tr>\n",
       "    <tr>\n",
       "      <th>2020-11-20</th>\n",
       "      <td>-0.019348</td>\n",
       "      <td>-0.006301</td>\n",
       "    </tr>\n",
       "  </tbody>\n",
       "</table>\n",
       "<p>1737 rows × 2 columns</p>\n",
       "</div>"
      ],
      "text/plain": [
       "                TSLA       BAC\n",
       "Date                          \n",
       "2013-12-31       NaN       NaN\n",
       "2014-01-02 -0.002194  0.034040\n",
       "2014-01-03 -0.003598  0.019255\n",
       "2014-01-06 -0.017117  0.015235\n",
       "2014-01-07  0.016054 -0.009604\n",
       "...              ...       ...\n",
       "2020-11-16 -0.001004  0.021481\n",
       "2020-11-17  0.082139 -0.001088\n",
       "2020-11-18  0.101968 -0.020690\n",
       "2020-11-19  0.025953  0.000000\n",
       "2020-11-20 -0.019348 -0.006301\n",
       "\n",
       "[1737 rows x 2 columns]"
      ]
     },
     "execution_count": 87,
     "metadata": {},
     "output_type": "execute_result"
    }
   ],
   "source": [
    "returns"
   ]
  },
  {
   "cell_type": "code",
   "execution_count": 88,
   "id": "7580dc63-d104-44fd-9c66-afe4578e62e9",
   "metadata": {},
   "outputs": [
    {
     "data": {
      "text/plain": [
       "TSLA    0.002186\n",
       "BAC     0.000582\n",
       "dtype: float64"
      ]
     },
     "execution_count": 88,
     "metadata": {},
     "output_type": "execute_result"
    }
   ],
   "source": [
    "returns.mean() # daily returns of the two stocks."
   ]
  },
  {
   "cell_type": "code",
   "execution_count": 89,
   "id": "b71e7fda-005a-40bd-a988-52e320373b5f",
   "metadata": {},
   "outputs": [
    {
     "data": {
      "text/plain": [
       "TSLA    0.034063\n",
       "BAC     0.020238\n",
       "dtype: float64"
      ]
     },
     "execution_count": 89,
     "metadata": {},
     "output_type": "execute_result"
    }
   ],
   "source": [
    "returns.std() # dailty standard deviation of the two stocks."
   ]
  },
  {
   "cell_type": "code",
   "execution_count": 90,
   "id": "4eac5837-25bc-4b1d-afb5-9d039e29645d",
   "metadata": {},
   "outputs": [
    {
     "data": {
      "text/plain": [
       "TSLA    0.550826\n",
       "BAC     0.146610\n",
       "dtype: float64"
      ]
     },
     "execution_count": 90,
     "metadata": {},
     "output_type": "execute_result"
    }
   ],
   "source": [
    "returns.mean() * 252 # annual returns of the two stocks."
   ]
  },
  {
   "cell_type": "code",
   "execution_count": 91,
   "id": "0e50679a-3619-477b-80a7-a5417d1c18c9",
   "metadata": {},
   "outputs": [
    {
     "data": {
      "text/plain": [
       "TSLA    8.583791\n",
       "BAC     5.100022\n",
       "dtype: float64"
      ]
     },
     "execution_count": 91,
     "metadata": {},
     "output_type": "execute_result"
    }
   ],
   "source": [
    "returns.std() * 252 # annual standard deviations of the two stocks."
   ]
  },
  {
   "cell_type": "code",
   "execution_count": 92,
   "id": "9ce501ed-4341-4afb-9f61-9dadb3d49f71",
   "metadata": {},
   "outputs": [
    {
     "data": {
      "text/plain": [
       "TSLA    0.540728\n",
       "BAC     0.321271\n",
       "dtype: float64"
      ]
     },
     "execution_count": 92,
     "metadata": {},
     "output_type": "execute_result"
    }
   ],
   "source": [
    "returns.std() * np.sqrt(252) # annual standard deviations of the two stocks. This one seems more reasonable. \n",
    "# check out this link: https://www.fool.com/knowledge-center/how-to-calculate-annualized-volatility.aspx"
   ]
  },
  {
   "cell_type": "code",
   "execution_count": null,
   "id": "2a05a1bc-edfb-4e0e-9772-839ae8636767",
   "metadata": {},
   "outputs": [],
   "source": []
  }
 ],
 "metadata": {
  "kernelspec": {
   "display_name": "Python 3 (ipykernel)",
   "language": "python",
   "name": "python3"
  },
  "language_info": {
   "codemirror_mode": {
    "name": "ipython",
    "version": 3
   },
   "file_extension": ".py",
   "mimetype": "text/x-python",
   "name": "python",
   "nbconvert_exporter": "python",
   "pygments_lexer": "ipython3",
   "version": "3.9.6"
  }
 },
 "nbformat": 4,
 "nbformat_minor": 5
}
